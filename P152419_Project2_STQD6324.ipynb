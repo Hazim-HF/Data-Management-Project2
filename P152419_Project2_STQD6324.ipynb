{
 "cells": [
  {
   "cell_type": "markdown",
   "id": "473f568d",
   "metadata": {},
   "source": [
    "# Assignment 2: Airline On-Time Performance Data\n",
    "Airline on-time performance data from 1987 to 2012"
   ]
  },
  {
   "cell_type": "markdown",
   "id": "0b3187dd",
   "metadata": {},
   "source": [
    "**1987 - 2008**\n",
    "| **Variable** | **Description** |\n",
    "|---:|---:|\n",
    "| Year | Year of flight |\n",
    "| Month | Month of the flight (1 = Jan, ..., 12 = Dec) |\n",
    "| DayofMonth | Day of the Month (1 to 31) |\n",
    "| DayofWeek | Day of the week (1 = Monday, ..., 7 = Sunday) |\n",
    "| DepTime | Actual Departure Time in 24hrs format |\n",
    "| CRSDepTime | Scheduled Departure Time in 24hrs format |\n",
    "| ArrTime | Actual Arrival Time in 24hrs format |\n",
    "| CRSArrTime | Scheduled Arrival Time in 24hrs format |\n",
    "| UniqueCarrier | Carrier Code | \n",
    "| FlightNum | Flight Number |\n",
    "| TailNum | Plane's tail number |\n",
    "| ActualEplapsedTime | Actual elapsed time (in minutes) |\n",
    "| CRSElapsedTime | Estimated elapsed time (in minutes) |\n",
    "| AirTime | Flight time (in minutes) |\n",
    "| ArrDelay | Arrival Delay in minutes (ArrTime - CRSArrTime) | \n",
    "| DepDelay | Departure Delay in minutes (DepTime - CRSDepTime) |\n",
    "| Origin | Origin IATA airport code |\n",
    "| Dest | Destination IATA airport code|\n",
    "| Distance | Distance in KM|\n",
    "| TaxiIn | Wheels down and arrival at the destination airport gate (in minutes) |\n",
    "| Cancelled | Was the flight cancelled? (1 = yes, 0 = no) |\n",
    "| CancellationCode | Reasons for cancellation (A = carrier, B =  weather, C = NAS, D = security) |\n",
    "| Diverted | 1 = yes, 0 = no |\n",
    "| CarrierDelay | Delay (in minutes) caused by carrier |\n",
    "| WeatherDelay | Delay (in minutes) caused by weather|\n",
    "| NASDelay | National Air Security (NAS) delay |\n",
    "| SecurityDelay | Delay (in minutes) caused by security |\n",
    "| LateAircraftDelay | Delay (in minutes) caused by late aircraft |\n",
    "\n",
    "**airports**\n",
    "| **Variable** | **Description** |\n",
    "| ---: | ---: | \n",
    "| iata | Airport code |\n",
    "| airport | Airport Name  |\n",
    "| city | Airport ity |\n",
    "| state | Airport state |\n",
    "| country | Airport country |\n",
    "| lat | Airport latitude |\n",
    "| long | Airport longitude | \n",
    "\n",
    "**carriers**\n",
    "| **Variable** | **Description** |\n",
    "| ---: | ---: | \n",
    "| Code | Carrier code |\n",
    "| Description | Carrier name |\n",
    "\n",
    "**plane-data**\n",
    "| **Variable** | **Description** |\n",
    "| ---: | ---: | \n",
    "| tailnum | Aircraft tial number |\n",
    "| type | Usage type | \n",
    "| manufacturer | Manufacturer company | \n",
    "| issue_date | Date start operating |\n",
    "| model | Aircraft model |\n",
    "| status | Status |\n",
    "| aircraft_type | Aircraft type |\n",
    "| engine_type | Engine type |\n",
    "| year | Manufacture year |\n",
    "\n",
    "2006['TailNum'] = plane-data['tailnum']\n",
    "\n",
    "2006[['Dest', 'Origin']] = airports['iata']\n",
    "\n",
    "2006['UniqueCarrier'] = carriers['Code']"
   ]
  },
  {
   "cell_type": "code",
   "execution_count": 1,
   "id": "8fc809a8",
   "metadata": {},
   "outputs": [],
   "source": [
    "# Import necessary libraries\n",
    "from pyhive import hive\n",
    "import pandas as pd\n",
    "import matplotlib.pyplot as plt\n",
    "import seaborn as sns"
   ]
  },
  {
   "cell_type": "code",
   "execution_count": 2,
   "id": "6b16e036",
   "metadata": {},
   "outputs": [],
   "source": [
    "# establish a connection to hive\n",
    "conn = hive.Connection(host='localhost',\n",
    "                       port=10000,\n",
    "                       username='maria_dev')\n",
    "\n",
    "# create a cursor object using the connection\n",
    "cursor = conn.cursor()\n",
    "\n",
    "def hive_query(query):\n",
    "    cursor.execute(query)\n",
    "    for result in cursor.fetchall():\n",
    "        print(result)"
   ]
  },
  {
   "cell_type": "code",
   "execution_count": 3,
   "id": "0b5b1b1e",
   "metadata": {},
   "outputs": [
    {
     "name": "stdout",
     "output_type": "stream",
     "text": [
      "('adult',)\n",
      "('credit',)\n",
      "('default',)\n",
      "('foodmart',)\n",
      "('project',)\n",
      "('project2',)\n",
      "('test',)\n",
      "('worldbank',)\n"
     ]
    }
   ],
   "source": [
    "# Create a database\n",
    "cursor.execute(\"CREATE DATABASE IF NOT EXISTS project2\")\n",
    "\n",
    "# View all databases to make sure the database was created\n",
    "hive_query(\"SHOW DATABASES\")"
   ]
  },
  {
   "cell_type": "code",
   "execution_count": 4,
   "id": "90a261b1",
   "metadata": {},
   "outputs": [],
   "source": [
    "# import 1987 - 2008 airline data from HDFS (in csv file) to Hive\n",
    "for year in range(1987, 2009):\n",
    "    location = f\"/user/maria_dev/project2/{year}\"\n",
    "    table_name = f\"project2.airline_{year}\"\n",
    "# Create external table pointing to the CSV\n",
    "    cursor.execute(f\"\"\"\n",
    "    CREATE EXTERNAL TABLE IF NOT EXISTS {table_name} (\n",
    "        Year INT,\n",
    "        Month INT,\n",
    "        DayofMonth INT,\n",
    "        DayOfWeek INT,\n",
    "        DepTime INT,\n",
    "        CRSDepTime INT,\n",
    "        ArrTime INT,\n",
    "        CRSArrTime INT,\n",
    "        UniqueCarrier STRING,\n",
    "        FlightNum INT,\n",
    "        TailNum STRING,\n",
    "        ActualElapsedTime INT,\n",
    "        CRSElapsedTime INT,\n",
    "        AirTime INT,\n",
    "        ArrDelay INT,\n",
    "        DepDelay INT,\n",
    "        Origin STRING,\n",
    "        Dest STRING,\n",
    "        Distance INT,\n",
    "        TaxiIn INT,\n",
    "        TaxiOut INT,\n",
    "        Cancelled INT,\n",
    "        CancellationCode STRING,\n",
    "        Diverted INT,\n",
    "        CarrierDelay INT,\n",
    "        WeatherDelay INT,\n",
    "        NASDelay INT,\n",
    "        SecurityDelay INT,\n",
    "        LateAircraftDelay INT\n",
    "    )\n",
    "    ROW FORMAT DELIMITED\n",
    "    FIELDS TERMINATED BY ','\n",
    "    STORED AS TEXTFILE\n",
    "    LOCATION '{location}'\n",
    "    TBLPROPERTIES (\"skip.header.line.count\"=\"1\")\n",
    "    \"\"\")\n"
   ]
  },
  {
   "cell_type": "code",
   "execution_count": 5,
   "id": "baabf5ca",
   "metadata": {},
   "outputs": [],
   "source": [
    "# import airports data from HDFS (in csv file) to Hive\n",
    "cursor.execute(\"\"\"\n",
    "               CREATE TABLE IF NOT EXISTS project2.airports (\n",
    "                iata STRING,\n",
    "                airport STRING,\n",
    "                city STRING,\n",
    "                state STRING,\n",
    "                country STRING,\n",
    "                lat FLOAT,\n",
    "                long FLOAT\n",
    "               )\n",
    "                ROW FORMAT DELIMITED\n",
    "                FIELDS TERMINATED BY ','\n",
    "                STORED AS TEXTFILE\n",
    "                LOCATION '/user/maria_dev/project2/airports'\n",
    "                TBLPROPERTIES (\"skip.header.line.count\"=\"1\")\n",
    "                \"\"\")\n"
   ]
  },
  {
   "cell_type": "code",
   "execution_count": 6,
   "id": "f9db0580",
   "metadata": {},
   "outputs": [],
   "source": [
    "# import carriers data from HDFS (in csv file) to Hive\n",
    "cursor.execute(\"\"\"\n",
    "               CREATE TABLE IF NOT EXISTS project2.carriers (\n",
    "                Code STRING,\n",
    "                Description STRING\n",
    "               )\n",
    "                ROW FORMAT DELIMITED\n",
    "                FIELDS TERMINATED BY ','\n",
    "                STORED AS TEXTFILE\n",
    "                LOCATION '/user/maria_dev/project2/carriers'\n",
    "                TBLPROPERTIES (\"skip.header.line.count\"=\"1\")\n",
    "\"\"\")\n"
   ]
  },
  {
   "cell_type": "code",
   "execution_count": 7,
   "id": "0932424a",
   "metadata": {},
   "outputs": [],
   "source": [
    "# import plane data from HDFS (in csv file) to Hive\n",
    "cursor.execute(\"\"\"\n",
    "               CREATE TABLE IF NOT EXISTS project2.plane_data (\n",
    "                tailnum STRING,\n",
    "                type STRING,\n",
    "                manufacturer STRING,\n",
    "                issue_date STRING,\n",
    "                model STRING,\n",
    "                status STRING,\n",
    "                serial_number STRING,\n",
    "                engine_type STRING,\n",
    "                year INT\n",
    "               )\n",
    "                ROW FORMAT DELIMITED\n",
    "                FIELDS TERMINATED BY ','\n",
    "                STORED AS TEXTFILE\n",
    "                LOCATION '/user/maria_dev/project2/plane_data'\n",
    "                TBLPROPERTIES (\"skip.header.line.count\"=\"1\")\n",
    "\"\"\")\n"
   ]
  },
  {
   "cell_type": "code",
   "execution_count": 33,
   "id": "f3804e8c",
   "metadata": {},
   "outputs": [],
   "source": [
    "# combine all airline data from 1987 to 2008 into a single table airline_all\n",
    "years = range(1987, 2009)  \n",
    "union_query_parts = [f\"SELECT * FROM project2.airline_{year}\" for year in years]\n",
    "union_all_query = \" UNION ALL\\n\".join(union_query_parts)\n",
    "\n",
    "cursor.execute(f\"\"\"\n",
    "CREATE TABLE IF NOT EXISTS project2.airline_2008\n",
    "AS\n",
    "{union_all_query}\n",
    "\"\"\")"
   ]
  },
  {
   "cell_type": "markdown",
   "id": "080e46a0",
   "metadata": {},
   "source": [
    "<h1 style = 'font-weight:bold'> Selecting Year of Interest </h1>"
   ]
  },
  {
   "cell_type": "code",
   "execution_count": null,
   "id": "da5fbc74",
   "metadata": {},
   "outputs": [],
   "source": [
    "columns = [\n",
    "    \"Year\", \"Month\", \"DayofMonth\", \"DayOfWeek\", \"DepTime\", \"CRSDepTime\", \"ArrTime\", \"CRSArrTime\",\n",
    "    \"UniqueCarrier\", \"FlightNum\", \"TailNum\", \"ActualElapsedTime\", \"CRSElapsedTime\", \"AirTime\",\n",
    "    \"ArrDelay\", \"DepDelay\", \"Origin\", \"Dest\", \"Distance\", \"TaxiIn\", \"TaxiOut\", \"Cancelled\",\n",
    "    \"CancellationCode\", \"Diverted\", \"CarrierDelay\", \"WeatherDelay\", \"NASDelay\", \"SecurityDelay\", \"LateAircraftDelay\"\n",
    "]\n",
    "\n",
    "results = []\n",
    "\n",
    "for year in range(1987, 2009):\n",
    "    table = f\"project2.airline_{year}\"\n",
    "    print(f\"Processing {table}\")\n",
    "\n",
    "    null_checks = \" +\\n    \".join([\n",
    "        f\"IF({col} IS NULL OR {col} = '', 1, 0)\" if col in ['TailNum', 'UniqueCarrier', 'Origin', 'Dest', 'CancellationCode']\n",
    "        else f\"IF({col} IS NULL, 1, 0)\"\n",
    "        for col in columns\n",
    "    ])\n",
    "\n",
    "    query = f\"\"\"\n",
    "        SELECT\n",
    "            {year} AS year,\n",
    "            COUNT(*) AS total_rows,\n",
    "            SUM(\n",
    "                {null_checks}\n",
    "            ) AS total_missing_values\n",
    "        FROM {table}\n",
    "    \"\"\"\n",
    "\n",
    "    cursor.execute(query)\n",
    "    row = cursor.fetchone()\n",
    "    results.append(row)\n",
    "\n",
    "\n",
    "df = pd.DataFrame(results, columns=[\"year\", \"total_rows\", \"total_missing_values\"])"
   ]
  },
  {
   "cell_type": "code",
   "execution_count": null,
   "id": "9b3a1d72",
   "metadata": {},
   "outputs": [
    {
     "data": {
      "application/vnd.microsoft.datawrangler.viewer.v0+json": {
       "columns": [
        {
         "name": "index",
         "rawType": "int64",
         "type": "integer"
        },
        {
         "name": "year",
         "rawType": "int64",
         "type": "integer"
        },
        {
         "name": "total_rows",
         "rawType": "int64",
         "type": "integer"
        },
        {
         "name": "total_missing_values",
         "rawType": "int64",
         "type": "integer"
        },
        {
         "name": "missing_percentage",
         "rawType": "float64",
         "type": "float"
        }
       ],
       "ref": "ed121a24-dcdf-4d48-8828-30fc50d680d5",
       "rows": [
        [
         "0",
         "1987",
         "1311826",
         "10605493",
         "8.08"
        ],
        [
         "1",
         "1988",
         "5202096",
         "41921993",
         "8.06"
        ],
        [
         "2",
         "1989",
         "5041200",
         "40771930",
         "8.09"
        ],
        [
         "3",
         "1990",
         "5270893",
         "42570733",
         "8.08"
        ],
        [
         "4",
         "1991",
         "5076925",
         "40896941",
         "8.06"
        ],
        [
         "5",
         "1992",
         "5092157",
         "41042975",
         "8.06"
        ],
        [
         "6",
         "1993",
         "5070501",
         "40901106",
         "8.07"
        ],
        [
         "7",
         "1994",
         "5180048",
         "41833351",
         "8.08"
        ],
        [
         "8",
         "1995",
         "5327435",
         "27187761",
         "5.1"
        ],
        [
         "9",
         "1996",
         "5351983",
         "27592261",
         "5.16"
        ],
        [
         "10",
         "1997",
         "5411843",
         "27698966",
         "5.12"
        ],
        [
         "11",
         "1998",
         "5384721",
         "27845689",
         "5.17"
        ],
        [
         "12",
         "1999",
         "5527884",
         "28628498",
         "5.18"
        ],
        [
         "13",
         "2000",
         "5683047",
         "29597460",
         "5.21"
        ],
        [
         "14",
         "2001",
         "5967780",
         "31277724",
         "5.24"
        ],
        [
         "15",
         "2002",
         "5271359",
         "26811122",
         "5.09"
        ],
        [
         "16",
         "2003",
         "6488540",
         "17807091",
         "2.74"
        ],
        [
         "17",
         "2004",
         "7129270",
         "7823311",
         "1.1"
        ],
        [
         "18",
         "2005",
         "7140596",
         "7865357",
         "1.1"
        ],
        [
         "19",
         "2006",
         "7141922",
         "7816340",
         "1.09"
        ],
        [
         "20",
         "2007",
         "7453215",
         "8326686",
         "1.12"
        ],
        [
         "21",
         "2008",
         "2389217",
         "11934610",
         "5.0"
        ]
       ],
       "shape": {
        "columns": 4,
        "rows": 22
       }
      },
      "text/html": [
       "<div>\n",
       "<style scoped>\n",
       "    .dataframe tbody tr th:only-of-type {\n",
       "        vertical-align: middle;\n",
       "    }\n",
       "\n",
       "    .dataframe tbody tr th {\n",
       "        vertical-align: top;\n",
       "    }\n",
       "\n",
       "    .dataframe thead th {\n",
       "        text-align: right;\n",
       "    }\n",
       "</style>\n",
       "<table border=\"1\" class=\"dataframe\">\n",
       "  <thead>\n",
       "    <tr style=\"text-align: right;\">\n",
       "      <th></th>\n",
       "      <th>year</th>\n",
       "      <th>total_rows</th>\n",
       "      <th>total_missing_values</th>\n",
       "      <th>missing_percentage</th>\n",
       "    </tr>\n",
       "  </thead>\n",
       "  <tbody>\n",
       "    <tr>\n",
       "      <th>0</th>\n",
       "      <td>1987</td>\n",
       "      <td>1311826</td>\n",
       "      <td>10605493</td>\n",
       "      <td>8.08</td>\n",
       "    </tr>\n",
       "    <tr>\n",
       "      <th>1</th>\n",
       "      <td>1988</td>\n",
       "      <td>5202096</td>\n",
       "      <td>41921993</td>\n",
       "      <td>8.06</td>\n",
       "    </tr>\n",
       "    <tr>\n",
       "      <th>2</th>\n",
       "      <td>1989</td>\n",
       "      <td>5041200</td>\n",
       "      <td>40771930</td>\n",
       "      <td>8.09</td>\n",
       "    </tr>\n",
       "    <tr>\n",
       "      <th>3</th>\n",
       "      <td>1990</td>\n",
       "      <td>5270893</td>\n",
       "      <td>42570733</td>\n",
       "      <td>8.08</td>\n",
       "    </tr>\n",
       "    <tr>\n",
       "      <th>4</th>\n",
       "      <td>1991</td>\n",
       "      <td>5076925</td>\n",
       "      <td>40896941</td>\n",
       "      <td>8.06</td>\n",
       "    </tr>\n",
       "    <tr>\n",
       "      <th>5</th>\n",
       "      <td>1992</td>\n",
       "      <td>5092157</td>\n",
       "      <td>41042975</td>\n",
       "      <td>8.06</td>\n",
       "    </tr>\n",
       "    <tr>\n",
       "      <th>6</th>\n",
       "      <td>1993</td>\n",
       "      <td>5070501</td>\n",
       "      <td>40901106</td>\n",
       "      <td>8.07</td>\n",
       "    </tr>\n",
       "    <tr>\n",
       "      <th>7</th>\n",
       "      <td>1994</td>\n",
       "      <td>5180048</td>\n",
       "      <td>41833351</td>\n",
       "      <td>8.08</td>\n",
       "    </tr>\n",
       "    <tr>\n",
       "      <th>8</th>\n",
       "      <td>1995</td>\n",
       "      <td>5327435</td>\n",
       "      <td>27187761</td>\n",
       "      <td>5.10</td>\n",
       "    </tr>\n",
       "    <tr>\n",
       "      <th>9</th>\n",
       "      <td>1996</td>\n",
       "      <td>5351983</td>\n",
       "      <td>27592261</td>\n",
       "      <td>5.16</td>\n",
       "    </tr>\n",
       "    <tr>\n",
       "      <th>10</th>\n",
       "      <td>1997</td>\n",
       "      <td>5411843</td>\n",
       "      <td>27698966</td>\n",
       "      <td>5.12</td>\n",
       "    </tr>\n",
       "    <tr>\n",
       "      <th>11</th>\n",
       "      <td>1998</td>\n",
       "      <td>5384721</td>\n",
       "      <td>27845689</td>\n",
       "      <td>5.17</td>\n",
       "    </tr>\n",
       "    <tr>\n",
       "      <th>12</th>\n",
       "      <td>1999</td>\n",
       "      <td>5527884</td>\n",
       "      <td>28628498</td>\n",
       "      <td>5.18</td>\n",
       "    </tr>\n",
       "    <tr>\n",
       "      <th>13</th>\n",
       "      <td>2000</td>\n",
       "      <td>5683047</td>\n",
       "      <td>29597460</td>\n",
       "      <td>5.21</td>\n",
       "    </tr>\n",
       "    <tr>\n",
       "      <th>14</th>\n",
       "      <td>2001</td>\n",
       "      <td>5967780</td>\n",
       "      <td>31277724</td>\n",
       "      <td>5.24</td>\n",
       "    </tr>\n",
       "    <tr>\n",
       "      <th>15</th>\n",
       "      <td>2002</td>\n",
       "      <td>5271359</td>\n",
       "      <td>26811122</td>\n",
       "      <td>5.09</td>\n",
       "    </tr>\n",
       "    <tr>\n",
       "      <th>16</th>\n",
       "      <td>2003</td>\n",
       "      <td>6488540</td>\n",
       "      <td>17807091</td>\n",
       "      <td>2.74</td>\n",
       "    </tr>\n",
       "    <tr>\n",
       "      <th>17</th>\n",
       "      <td>2004</td>\n",
       "      <td>7129270</td>\n",
       "      <td>7823311</td>\n",
       "      <td>1.10</td>\n",
       "    </tr>\n",
       "    <tr>\n",
       "      <th>18</th>\n",
       "      <td>2005</td>\n",
       "      <td>7140596</td>\n",
       "      <td>7865357</td>\n",
       "      <td>1.10</td>\n",
       "    </tr>\n",
       "    <tr>\n",
       "      <th>19</th>\n",
       "      <td>2006</td>\n",
       "      <td>7141922</td>\n",
       "      <td>7816340</td>\n",
       "      <td>1.09</td>\n",
       "    </tr>\n",
       "    <tr>\n",
       "      <th>20</th>\n",
       "      <td>2007</td>\n",
       "      <td>7453215</td>\n",
       "      <td>8326686</td>\n",
       "      <td>1.12</td>\n",
       "    </tr>\n",
       "    <tr>\n",
       "      <th>21</th>\n",
       "      <td>2008</td>\n",
       "      <td>2389217</td>\n",
       "      <td>11934610</td>\n",
       "      <td>5.00</td>\n",
       "    </tr>\n",
       "  </tbody>\n",
       "</table>\n",
       "</div>"
      ],
      "text/plain": [
       "    year  total_rows  total_missing_values  missing_percentage\n",
       "0   1987     1311826              10605493                8.08\n",
       "1   1988     5202096              41921993                8.06\n",
       "2   1989     5041200              40771930                8.09\n",
       "3   1990     5270893              42570733                8.08\n",
       "4   1991     5076925              40896941                8.06\n",
       "5   1992     5092157              41042975                8.06\n",
       "6   1993     5070501              40901106                8.07\n",
       "7   1994     5180048              41833351                8.08\n",
       "8   1995     5327435              27187761                5.10\n",
       "9   1996     5351983              27592261                5.16\n",
       "10  1997     5411843              27698966                5.12\n",
       "11  1998     5384721              27845689                5.17\n",
       "12  1999     5527884              28628498                5.18\n",
       "13  2000     5683047              29597460                5.21\n",
       "14  2001     5967780              31277724                5.24\n",
       "15  2002     5271359              26811122                5.09\n",
       "16  2003     6488540              17807091                2.74\n",
       "17  2004     7129270               7823311                1.10\n",
       "18  2005     7140596               7865357                1.10\n",
       "19  2006     7141922               7816340                1.09\n",
       "20  2007     7453215               8326686                1.12\n",
       "21  2008     2389217              11934610                5.00"
      ]
     },
     "execution_count": 39,
     "metadata": {},
     "output_type": "execute_result"
    }
   ],
   "source": [
    "df['missing_ratio'] = (df['total_missing_values'] / df['total_rows'])\n",
    "df['missing_ratio'] = df['missing_ratio'].round(2).sort_values(by='missing ratio', ascending=False)\n",
    "df"
   ]
  },
  {
   "cell_type": "markdown",
   "id": "a4c06971",
   "metadata": {},
   "source": [
    "In order to choose the best year for analysis, we are looking for the year that has the highest number of observation as more data will lead to better analysis. Next, we also will be looking at the total number of missing values to ensure the best accuracy. Thus, we calculated the missing-per-row ratio to which year has the highest total number of rows and the lowest number of missing values. Based on the table above, we can see that the year with the lowest ratio is 2006, thus, it will be selected for this analysis."
   ]
  },
  {
   "cell_type": "markdown",
   "id": "591bc160",
   "metadata": {},
   "source": [
    "<h1 style = 'font-weight:bold'> 1. Delay patterns </h1>\n",
    "<h2> 1.1 What times of the day have the lowest average delays </h2>"
   ]
  },
  {
   "cell_type": "code",
   "execution_count": 44,
   "id": "b7872f96",
   "metadata": {},
   "outputs": [
    {
     "name": "stderr",
     "output_type": "stream",
     "text": [
      "C:\\Users\\user\\AppData\\Local\\Temp\\ipykernel_21476\\1649678941.py:24: UserWarning: pandas only supports SQLAlchemy connectable (engine/connection) or database string URI or sqlite3 DBAPI2 connection. Other DBAPI2 objects are not tested. Please consider using SQLAlchemy.\n",
      "  df = pd.read_sql(query1, conn)\n"
     ]
    },
    {
     "data": {
      "application/vnd.microsoft.datawrangler.viewer.v0+json": {
       "columns": [
        {
         "name": "index",
         "rawType": "int64",
         "type": "integer"
        },
        {
         "name": "time_of_day",
         "rawType": "object",
         "type": "string"
        },
        {
         "name": "avg_depdelay",
         "rawType": "float64",
         "type": "float"
        }
       ],
       "ref": "3f3e4268-2976-4906-8279-09253fbaf13e",
       "rows": [
        [
         "0",
         "Morning",
         "4.49"
        ],
        [
         "1",
         "Afternoon",
         "11.8"
        ],
        [
         "2",
         "Night",
         "13.3"
        ],
        [
         "3",
         "Evening",
         "17.02"
        ]
       ],
       "shape": {
        "columns": 2,
        "rows": 4
       }
      },
      "text/html": [
       "<div>\n",
       "<style scoped>\n",
       "    .dataframe tbody tr th:only-of-type {\n",
       "        vertical-align: middle;\n",
       "    }\n",
       "\n",
       "    .dataframe tbody tr th {\n",
       "        vertical-align: top;\n",
       "    }\n",
       "\n",
       "    .dataframe thead th {\n",
       "        text-align: right;\n",
       "    }\n",
       "</style>\n",
       "<table border=\"1\" class=\"dataframe\">\n",
       "  <thead>\n",
       "    <tr style=\"text-align: right;\">\n",
       "      <th></th>\n",
       "      <th>time_of_day</th>\n",
       "      <th>avg_depdelay</th>\n",
       "    </tr>\n",
       "  </thead>\n",
       "  <tbody>\n",
       "    <tr>\n",
       "      <th>0</th>\n",
       "      <td>Morning</td>\n",
       "      <td>4.49</td>\n",
       "    </tr>\n",
       "    <tr>\n",
       "      <th>1</th>\n",
       "      <td>Afternoon</td>\n",
       "      <td>11.80</td>\n",
       "    </tr>\n",
       "    <tr>\n",
       "      <th>2</th>\n",
       "      <td>Night</td>\n",
       "      <td>13.30</td>\n",
       "    </tr>\n",
       "    <tr>\n",
       "      <th>3</th>\n",
       "      <td>Evening</td>\n",
       "      <td>17.02</td>\n",
       "    </tr>\n",
       "  </tbody>\n",
       "</table>\n",
       "</div>"
      ],
      "text/plain": [
       "  time_of_day  avg_depdelay\n",
       "0     Morning          4.49\n",
       "1   Afternoon         11.80\n",
       "2       Night         13.30\n",
       "3     Evening         17.02"
      ]
     },
     "execution_count": 44,
     "metadata": {},
     "output_type": "execute_result"
    }
   ],
   "source": [
    "# query data of average departure delay by time of day\n",
    "query1 = \"\"\"\n",
    "    SELECT\n",
    "        CASE\n",
    "            WHEN crsdeptime BETWEEN 500 AND 1159 THEN 'Morning'\n",
    "            WHEN crsdeptime BETWEEN 1200 AND 1659 THEN 'Afternoon'\n",
    "            WHEN crsdeptime BETWEEN 1700 AND 2059 THEN 'Evening'\n",
    "            ELSE 'Night'\n",
    "        END AS time_of_day,\n",
    "        AVG(depdelay) AS avg_depdelay\n",
    "    FROM project2.airline_2006\n",
    "    WHERE depdelay IS NOT NULL\n",
    "    AND crsdeptime IS NOT NULL\n",
    "    GROUP BY\n",
    "        CASE\n",
    "            WHEN crsdeptime BETWEEN 500 AND 1159 THEN 'Morning'\n",
    "            WHEN crsdeptime BETWEEN 1200 AND 1659 THEN 'Afternoon'\n",
    "            WHEN crsdeptime BETWEEN 1700 AND 2059 THEN 'Evening'\n",
    "            ELSE 'Night'\n",
    "        END\n",
    "    ORDER BY avg_depdelay\n",
    "\"\"\"\n",
    "\n",
    "df = pd.read_sql(query1, conn)\n",
    "df['avg_depdelay'] = df['avg_depdelay'].round(2)\n",
    "df"
   ]
  },
  {
   "cell_type": "code",
   "execution_count": 74,
   "id": "8baaf107",
   "metadata": {},
   "outputs": [
    {
     "name": "stderr",
     "output_type": "stream",
     "text": [
      "C:\\Users\\user\\AppData\\Local\\Temp\\ipykernel_21476\\2395380804.py:3: FutureWarning: \n",
      "\n",
      "Passing `palette` without assigning `hue` is deprecated and will be removed in v0.14.0. Assign the `x` variable to `hue` and set `legend=False` for the same effect.\n",
      "\n",
      "  ax = sns.barplot(x='time_of_day', y='avg_depdelay', data=df, palette='magma', order=order)\n"
     ]
    },
    {
     "data": {
      "image/png": "[encoded data removed]",
      "text/plain": [
       "<Figure size 640x480 with 1 Axes>"
      ]
     },
     "metadata": {},
     "output_type": "display_data"
    }
   ],
   "source": [
    "# visualize the average departure delay by time of day\n",
    "order = ['Morning', 'Afternoon', 'Evening', 'Night']\n",
    "ax = sns.barplot(x='time_of_day', y='avg_depdelay', data=df, palette='magma', order=order)\n",
    "for container in ax.containers:\n",
    "    ax.bar_label(container, labels=[f'{v:.1f}%' for v in container.datavalues], padding=3)\n",
    "plt.title(\"Average Departure Delay by Time of Day\")\n",
    "plt.xlabel(\"Time of Day\")\n",
    "plt.ylabel(\"Average Departure Delay (minutes)\")\n",
    "plt.ylim(0, 20)\n",
    "plt.show();"
   ]
  },
  {
   "cell_type": "markdown",
   "id": "74b5a8e2",
   "metadata": {},
   "source": [
    "<h2> 1.2 Which days of the week show better on-time performance? </h2>"
   ]
  },
  {
   "cell_type": "code",
   "execution_count": 46,
   "id": "485c9378",
   "metadata": {},
   "outputs": [
    {
     "name": "stderr",
     "output_type": "stream",
     "text": [
      "C:\\Users\\user\\AppData\\Local\\Temp\\ipykernel_21476\\76254639.py:13: UserWarning: pandas only supports SQLAlchemy connectable (engine/connection) or database string URI or sqlite3 DBAPI2 connection. Other DBAPI2 objects are not tested. Please consider using SQLAlchemy.\n",
      "  df2 = pd.read_sql(query, conn)\n"
     ]
    },
    {
     "data": {
      "application/vnd.microsoft.datawrangler.viewer.v0+json": {
       "columns": [
        {
         "name": "index",
         "rawType": "int64",
         "type": "integer"
        },
        {
         "name": "dayofweek",
         "rawType": "int64",
         "type": "integer"
        },
        {
         "name": "total_flights",
         "rawType": "int64",
         "type": "integer"
        },
        {
         "name": "on_time_flights",
         "rawType": "int64",
         "type": "integer"
        },
        {
         "name": "on_time_percent",
         "rawType": "float64",
         "type": "float"
        }
       ],
       "ref": "6c433031-af75-4448-8f96-9b1b4a2f318e",
       "rows": [
        [
         "0",
         "2",
         "1014389",
         "653861",
         "64.46"
        ],
        [
         "1",
         "3",
         "1024673",
         "640678",
         "62.53"
        ],
        [
         "2",
         "6",
         "888200",
         "546647",
         "61.55"
        ],
        [
         "3",
         "1",
         "1030449",
         "613288",
         "59.52"
        ],
        [
         "4",
         "7",
         "996120",
         "582195",
         "58.45"
        ],
        [
         "5",
         "4",
         "1031078",
         "592634",
         "57.48"
        ],
        [
         "6",
         "5",
         "1035079",
         "565030",
         "54.59"
        ]
       ],
       "shape": {
        "columns": 4,
        "rows": 7
       }
      },
      "text/html": [
       "<div>\n",
       "<style scoped>\n",
       "    .dataframe tbody tr th:only-of-type {\n",
       "        vertical-align: middle;\n",
       "    }\n",
       "\n",
       "    .dataframe tbody tr th {\n",
       "        vertical-align: top;\n",
       "    }\n",
       "\n",
       "    .dataframe thead th {\n",
       "        text-align: right;\n",
       "    }\n",
       "</style>\n",
       "<table border=\"1\" class=\"dataframe\">\n",
       "  <thead>\n",
       "    <tr style=\"text-align: right;\">\n",
       "      <th></th>\n",
       "      <th>dayofweek</th>\n",
       "      <th>total_flights</th>\n",
       "      <th>on_time_flights</th>\n",
       "      <th>on_time_percent</th>\n",
       "    </tr>\n",
       "  </thead>\n",
       "  <tbody>\n",
       "    <tr>\n",
       "      <th>0</th>\n",
       "      <td>2</td>\n",
       "      <td>1014389</td>\n",
       "      <td>653861</td>\n",
       "      <td>64.46</td>\n",
       "    </tr>\n",
       "    <tr>\n",
       "      <th>1</th>\n",
       "      <td>3</td>\n",
       "      <td>1024673</td>\n",
       "      <td>640678</td>\n",
       "      <td>62.53</td>\n",
       "    </tr>\n",
       "    <tr>\n",
       "      <th>2</th>\n",
       "      <td>6</td>\n",
       "      <td>888200</td>\n",
       "      <td>546647</td>\n",
       "      <td>61.55</td>\n",
       "    </tr>\n",
       "    <tr>\n",
       "      <th>3</th>\n",
       "      <td>1</td>\n",
       "      <td>1030449</td>\n",
       "      <td>613288</td>\n",
       "      <td>59.52</td>\n",
       "    </tr>\n",
       "    <tr>\n",
       "      <th>4</th>\n",
       "      <td>7</td>\n",
       "      <td>996120</td>\n",
       "      <td>582195</td>\n",
       "      <td>58.45</td>\n",
       "    </tr>\n",
       "    <tr>\n",
       "      <th>5</th>\n",
       "      <td>4</td>\n",
       "      <td>1031078</td>\n",
       "      <td>592634</td>\n",
       "      <td>57.48</td>\n",
       "    </tr>\n",
       "    <tr>\n",
       "      <th>6</th>\n",
       "      <td>5</td>\n",
       "      <td>1035079</td>\n",
       "      <td>565030</td>\n",
       "      <td>54.59</td>\n",
       "    </tr>\n",
       "  </tbody>\n",
       "</table>\n",
       "</div>"
      ],
      "text/plain": [
       "   dayofweek  total_flights  on_time_flights  on_time_percent\n",
       "0          2        1014389           653861            64.46\n",
       "1          3        1024673           640678            62.53\n",
       "2          6         888200           546647            61.55\n",
       "3          1        1030449           613288            59.52\n",
       "4          7         996120           582195            58.45\n",
       "5          4        1031078           592634            57.48\n",
       "6          5        1035079           565030            54.59"
      ]
     },
     "execution_count": 46,
     "metadata": {},
     "output_type": "execute_result"
    }
   ],
   "source": [
    "query = \"\"\"\n",
    "    SELECT \n",
    "        dayofweek,\n",
    "        COUNT(*) AS total_flights,\n",
    "        SUM(CASE WHEN depdelay <= 0 THEN 1 ELSE 0 END) AS on_time_flights,\n",
    "        ROUND(100.0 * SUM(CASE WHEN depdelay <= 0 THEN 1 ELSE 0 END) / COUNT(*), 2) AS on_time_percent\n",
    "    FROM project2.airline_2006\n",
    "    WHERE depdelay IS NOT NULL AND dayofweek IS NOT NULL\n",
    "    GROUP BY dayofweek\n",
    "    ORDER BY on_time_percent DESC\n",
    "\"\"\"\n",
    "\n",
    "df2 = pd.read_sql(query, conn)\n",
    "df2"
   ]
  },
  {
   "cell_type": "code",
   "execution_count": null,
   "id": "7e987c73",
   "metadata": {},
   "outputs": [
    {
     "name": "stderr",
     "output_type": "stream",
     "text": [
      "C:\\Users\\user\\AppData\\Local\\Temp\\ipykernel_21476\\1301991528.py:2: FutureWarning: \n",
      "\n",
      "Passing `palette` without assigning `hue` is deprecated and will be removed in v0.14.0. Assign the `x` variable to `hue` and set `legend=False` for the same effect.\n",
      "\n",
      "  ax = sns.barplot(x='dayofweek', y='on_time_percent', data=df2, palette='viridis')\n"
     ]
    },
    {
     "data": {
      "image/png": "[encoded data removed]",
      "text/plain": [
       "<Figure size 640x480 with 1 Axes>"
      ]
     },
     "metadata": {},
     "output_type": "display_data"
    }
   ],
   "source": [
    "# plt.figure(figsize=(8, 6))\n",
    "ax = sns.barplot(x='dayofweek', y='on_time_percent', data=df2, palette='viridis')\n",
    "plt.title(\"On-Time Performance by Day of Week\")\n",
    "\n",
    "# Add percentage labels on top of the bars\n",
    "for container in ax.containers:\n",
    "    ax.bar_label(container, labels=[f'{v:.1f}%' for v in container.datavalues], padding=3)\n",
    "\n",
    "plt.xlabel(\"Day of Week\")\n",
    "plt.ylabel(\"On-Time Percentage (%)\")\n",
    "plt.xticks(ticks=range(7), labels=['Mon', 'Tue', 'Wed', 'Thu', 'Fri', 'Sat', 'Sun'])\n",
    "plt.ylim(0, 100)\n",
    "\n",
    "# plt.tight_layout()\n",
    "plt.show();"
   ]
  },
  {
   "cell_type": "markdown",
   "id": "7e12200c",
   "metadata": {},
   "source": [
    "<h2> 1.3 During which months or seasons are flights most likely to be on time? </h2>"
   ]
  },
  {
   "cell_type": "code",
   "execution_count": null,
   "id": "8e8df4a6",
   "metadata": {},
   "outputs": [
    {
     "name": "stderr",
     "output_type": "stream",
     "text": [
      "C:\\Users\\user\\AppData\\Local\\Temp\\ipykernel_21476\\1065052547.py:13: UserWarning: pandas only supports SQLAlchemy connectable (engine/connection) or database string URI or sqlite3 DBAPI2 connection. Other DBAPI2 objects are not tested. Please consider using SQLAlchemy.\n",
      "  df3 = pd.read_sql(query3, conn)\n"
     ]
    },
    {
     "data": {
      "application/vnd.microsoft.datawrangler.viewer.v0+json": {
       "columns": [
        {
         "name": "index",
         "rawType": "int64",
         "type": "integer"
        },
        {
         "name": "month",
         "rawType": "int64",
         "type": "integer"
        },
        {
         "name": "total_flights",
         "rawType": "int64",
         "type": "integer"
        },
        {
         "name": "on_time_flights",
         "rawType": "int64",
         "type": "integer"
        },
        {
         "name": "on_time_percent",
         "rawType": "float64",
         "type": "float"
        }
       ],
       "ref": "e47ef93b-0323-4630-a170-cec0e11f4481",
       "rows": [
        [
         "0",
         "9",
         "9179898",
         "6071140",
         "66.14"
        ],
        [
         "1",
         "5",
         "9603585",
         "5970467",
         "62.17"
        ],
        [
         "2",
         "10",
         "10071314",
         "6259621",
         "62.15"
        ],
        [
         "3",
         "4",
         "9956265",
         "6134349",
         "61.61"
        ],
        [
         "4",
         "11",
         "9573697",
         "5746828",
         "60.03"
        ],
        [
         "5",
         "2",
         "9182556",
         "5278669",
         "57.49"
        ],
        [
         "6",
         "3",
         "10235777",
         "5866618",
         "57.31"
        ],
        [
         "7",
         "8",
         "9877597",
         "5635316",
         "57.05"
        ],
        [
         "8",
         "1",
         "9950241",
         "5669081",
         "56.97"
        ],
        [
         "9",
         "7",
         "9788085",
         "5465171",
         "55.83"
        ],
        [
         "10",
         "6",
         "9463217",
         "5199120",
         "54.94"
        ],
        [
         "11",
         "12",
         "9801894",
         "5076845",
         "51.79"
        ]
       ],
       "shape": {
        "columns": 4,
        "rows": 12
       }
      },
      "text/html": [
       "<div>\n",
       "<style scoped>\n",
       "    .dataframe tbody tr th:only-of-type {\n",
       "        vertical-align: middle;\n",
       "    }\n",
       "\n",
       "    .dataframe tbody tr th {\n",
       "        vertical-align: top;\n",
       "    }\n",
       "\n",
       "    .dataframe thead th {\n",
       "        text-align: right;\n",
       "    }\n",
       "</style>\n",
       "<table border=\"1\" class=\"dataframe\">\n",
       "  <thead>\n",
       "    <tr style=\"text-align: right;\">\n",
       "      <th></th>\n",
       "      <th>month</th>\n",
       "      <th>total_flights</th>\n",
       "      <th>on_time_flights</th>\n",
       "      <th>on_time_percent</th>\n",
       "    </tr>\n",
       "  </thead>\n",
       "  <tbody>\n",
       "    <tr>\n",
       "      <th>0</th>\n",
       "      <td>9</td>\n",
       "      <td>9179898</td>\n",
       "      <td>6071140</td>\n",
       "      <td>66.14</td>\n",
       "    </tr>\n",
       "    <tr>\n",
       "      <th>1</th>\n",
       "      <td>5</td>\n",
       "      <td>9603585</td>\n",
       "      <td>5970467</td>\n",
       "      <td>62.17</td>\n",
       "    </tr>\n",
       "    <tr>\n",
       "      <th>2</th>\n",
       "      <td>10</td>\n",
       "      <td>10071314</td>\n",
       "      <td>6259621</td>\n",
       "      <td>62.15</td>\n",
       "    </tr>\n",
       "    <tr>\n",
       "      <th>3</th>\n",
       "      <td>4</td>\n",
       "      <td>9956265</td>\n",
       "      <td>6134349</td>\n",
       "      <td>61.61</td>\n",
       "    </tr>\n",
       "    <tr>\n",
       "      <th>4</th>\n",
       "      <td>11</td>\n",
       "      <td>9573697</td>\n",
       "      <td>5746828</td>\n",
       "      <td>60.03</td>\n",
       "    </tr>\n",
       "    <tr>\n",
       "      <th>5</th>\n",
       "      <td>2</td>\n",
       "      <td>9182556</td>\n",
       "      <td>5278669</td>\n",
       "      <td>57.49</td>\n",
       "    </tr>\n",
       "    <tr>\n",
       "      <th>6</th>\n",
       "      <td>3</td>\n",
       "      <td>10235777</td>\n",
       "      <td>5866618</td>\n",
       "      <td>57.31</td>\n",
       "    </tr>\n",
       "    <tr>\n",
       "      <th>7</th>\n",
       "      <td>8</td>\n",
       "      <td>9877597</td>\n",
       "      <td>5635316</td>\n",
       "      <td>57.05</td>\n",
       "    </tr>\n",
       "    <tr>\n",
       "      <th>8</th>\n",
       "      <td>1</td>\n",
       "      <td>9950241</td>\n",
       "      <td>5669081</td>\n",
       "      <td>56.97</td>\n",
       "    </tr>\n",
       "    <tr>\n",
       "      <th>9</th>\n",
       "      <td>7</td>\n",
       "      <td>9788085</td>\n",
       "      <td>5465171</td>\n",
       "      <td>55.83</td>\n",
       "    </tr>\n",
       "    <tr>\n",
       "      <th>10</th>\n",
       "      <td>6</td>\n",
       "      <td>9463217</td>\n",
       "      <td>5199120</td>\n",
       "      <td>54.94</td>\n",
       "    </tr>\n",
       "    <tr>\n",
       "      <th>11</th>\n",
       "      <td>12</td>\n",
       "      <td>9801894</td>\n",
       "      <td>5076845</td>\n",
       "      <td>51.79</td>\n",
       "    </tr>\n",
       "  </tbody>\n",
       "</table>\n",
       "</div>"
      ],
      "text/plain": [
       "    month  total_flights  on_time_flights  on_time_percent\n",
       "0       9        9179898          6071140            66.14\n",
       "1       5        9603585          5970467            62.17\n",
       "2      10       10071314          6259621            62.15\n",
       "3       4        9956265          6134349            61.61\n",
       "4      11        9573697          5746828            60.03\n",
       "5       2        9182556          5278669            57.49\n",
       "6       3       10235777          5866618            57.31\n",
       "7       8        9877597          5635316            57.05\n",
       "8       1        9950241          5669081            56.97\n",
       "9       7        9788085          5465171            55.83\n",
       "10      6        9463217          5199120            54.94\n",
       "11     12        9801894          5076845            51.79"
      ]
     },
     "execution_count": 13,
     "metadata": {},
     "output_type": "execute_result"
    }
   ],
   "source": [
    "query3 = \"\"\"\n",
    "    SELECT \n",
    "        month,\n",
    "        COUNT(*) AS total_flights,\n",
    "        SUM(CASE WHEN depdelay <= 0 THEN 1 ELSE 0 END) AS on_time_flights,\n",
    "        ROUND(100.0 * SUM(CASE WHEN depdelay <= 0 THEN 1 ELSE 0 END) / COUNT(*), 2) AS on_time_percent\n",
    "    FROM project2.airline_2006\n",
    "    WHERE depdelay IS NOT NULL AND month IS NOT NULL\n",
    "    GROUP BY month\n",
    "    ORDER BY on_time_percent DESC\n",
    "\"\"\"\n",
    "\n",
    "df3 = pd.read_sql(query3, conn)\n",
    "df3"
   ]
  },
  {
   "cell_type": "code",
   "execution_count": null,
   "id": "52c702d6",
   "metadata": {},
   "outputs": [
    {
     "name": "stderr",
     "output_type": "stream",
     "text": [
      "C:\\Users\\user\\AppData\\Local\\Temp\\ipykernel_21476\\1790978808.py:24: UserWarning: pandas only supports SQLAlchemy connectable (engine/connection) or database string URI or sqlite3 DBAPI2 connection. Other DBAPI2 objects are not tested. Please consider using SQLAlchemy.\n",
      "  df4 = pd.read_sql(query4, conn)\n"
     ]
    },
    {
     "data": {
      "application/vnd.microsoft.datawrangler.viewer.v0+json": {
       "columns": [
        {
         "name": "index",
         "rawType": "int64",
         "type": "integer"
        },
        {
         "name": "season",
         "rawType": "object",
         "type": "string"
        },
        {
         "name": "total_flights",
         "rawType": "int64",
         "type": "integer"
        },
        {
         "name": "on_time_flights",
         "rawType": "int64",
         "type": "integer"
        },
        {
         "name": "on_time_percent",
         "rawType": "float64",
         "type": "float"
        }
       ],
       "ref": "ac3ceda7-fe7b-4daf-9411-06945affd6b3",
       "rows": [
        [
         "0",
         "Fall",
         "28824909",
         "18077589",
         "62.72"
        ],
        [
         "1",
         "Spring",
         "29795627",
         "17971434",
         "60.32"
        ],
        [
         "2",
         "Summer",
         "29128899",
         "16299607",
         "55.96"
        ],
        [
         "3",
         "Winter",
         "28934691",
         "16024595",
         "55.38"
        ]
       ],
       "shape": {
        "columns": 4,
        "rows": 4
       }
      },
      "text/html": [
       "<div>\n",
       "<style scoped>\n",
       "    .dataframe tbody tr th:only-of-type {\n",
       "        vertical-align: middle;\n",
       "    }\n",
       "\n",
       "    .dataframe tbody tr th {\n",
       "        vertical-align: top;\n",
       "    }\n",
       "\n",
       "    .dataframe thead th {\n",
       "        text-align: right;\n",
       "    }\n",
       "</style>\n",
       "<table border=\"1\" class=\"dataframe\">\n",
       "  <thead>\n",
       "    <tr style=\"text-align: right;\">\n",
       "      <th></th>\n",
       "      <th>season</th>\n",
       "      <th>total_flights</th>\n",
       "      <th>on_time_flights</th>\n",
       "      <th>on_time_percent</th>\n",
       "    </tr>\n",
       "  </thead>\n",
       "  <tbody>\n",
       "    <tr>\n",
       "      <th>0</th>\n",
       "      <td>Fall</td>\n",
       "      <td>28824909</td>\n",
       "      <td>18077589</td>\n",
       "      <td>62.72</td>\n",
       "    </tr>\n",
       "    <tr>\n",
       "      <th>1</th>\n",
       "      <td>Spring</td>\n",
       "      <td>29795627</td>\n",
       "      <td>17971434</td>\n",
       "      <td>60.32</td>\n",
       "    </tr>\n",
       "    <tr>\n",
       "      <th>2</th>\n",
       "      <td>Summer</td>\n",
       "      <td>29128899</td>\n",
       "      <td>16299607</td>\n",
       "      <td>55.96</td>\n",
       "    </tr>\n",
       "    <tr>\n",
       "      <th>3</th>\n",
       "      <td>Winter</td>\n",
       "      <td>28934691</td>\n",
       "      <td>16024595</td>\n",
       "      <td>55.38</td>\n",
       "    </tr>\n",
       "  </tbody>\n",
       "</table>\n",
       "</div>"
      ],
      "text/plain": [
       "   season  total_flights  on_time_flights  on_time_percent\n",
       "0    Fall       28824909         18077589            62.72\n",
       "1  Spring       29795627         17971434            60.32\n",
       "2  Summer       29128899         16299607            55.96\n",
       "3  Winter       28934691         16024595            55.38"
      ]
     },
     "execution_count": 14,
     "metadata": {},
     "output_type": "execute_result"
    }
   ],
   "source": [
    "query4 = \"\"\"\n",
    "    SELECT \n",
    "    CASE \n",
    "        WHEN month IN (12, 1, 2) THEN 'Winter'\n",
    "        WHEN month IN (3, 4, 5) THEN 'Spring'\n",
    "        WHEN month IN (6, 7, 8) THEN 'Summer'\n",
    "        WHEN month IN (9, 10, 11) THEN 'Fall'\n",
    "    END AS season,\n",
    "    COUNT(*) AS total_flights,\n",
    "    SUM(CASE WHEN depdelay <= 0 THEN 1 ELSE 0 END) AS on_time_flights,\n",
    "    ROUND(100.0 * SUM(CASE WHEN depdelay <= 0 THEN 1 ELSE 0 END) / COUNT(*), 2) AS on_time_percent\n",
    "    FROM project2.airline_2006\n",
    "    WHERE depdelay IS NOT NULL AND month IS NOT NULL\n",
    "    GROUP BY \n",
    "    CASE \n",
    "        WHEN month IN (12, 1, 2) THEN 'Winter'\n",
    "        WHEN month IN (3, 4, 5) THEN 'Spring'\n",
    "        WHEN month IN (6, 7, 8) THEN 'Summer'\n",
    "        WHEN month IN (9, 10, 11) THEN 'Fall'\n",
    "    END\n",
    "    ORDER BY on_time_percent DESC\n",
    "\"\"\"\n",
    "\n",
    "df4 = pd.read_sql(query4, conn)\n",
    "df4"
   ]
  },
  {
   "cell_type": "code",
   "execution_count": 88,
   "id": "9214d293",
   "metadata": {},
   "outputs": [
    {
     "name": "stderr",
     "output_type": "stream",
     "text": [
      "C:\\Users\\user\\AppData\\Local\\Temp\\ipykernel_21476\\443066582.py:2: FutureWarning: \n",
      "\n",
      "Passing `palette` without assigning `hue` is deprecated and will be removed in v0.14.0. Assign the `x` variable to `hue` and set `legend=False` for the same effect.\n",
      "\n",
      "  ax = sns.barplot(x='month', y='on_time_percent', data=df3, palette='magma')\n"
     ]
    },
    {
     "data": {
      "image/png": "[encoded data removed]",
      "text/plain": [
       "<Figure size 640x480 with 1 Axes>"
      ]
     },
     "metadata": {},
     "output_type": "display_data"
    }
   ],
   "source": [
    "# combine month and season data\n",
    "ax = sns.barplot(x='month', y='on_time_percent', data=df3, palette='magma')\n",
    "\n",
    "for container in ax.containers:\n",
    "    ax.bar_label(container, labels=[f'{v:.1f}%' for v in container.datavalues], padding=3)\n",
    "\n",
    "plt.ylim(0, 100)\n",
    "plt.title(\"On-Time Performance by Month\")\n",
    "plt.xlabel(\"Month\")\n",
    "plt.ylabel(\"On-Time Percentage (%)\")\n",
    "plt.tight_layout()\n",
    "plt.xticks(ticks=range(12), labels=['Jan', 'Feb', 'Mar', 'Apr', 'May', 'Jun', 'Jul', 'Aug', 'Sep', 'Oct', 'Nov', 'Dec'])\n",
    "plt.show();"
   ]
  },
  {
   "cell_type": "code",
   "execution_count": 87,
   "id": "3ebb9187",
   "metadata": {},
   "outputs": [
    {
     "name": "stderr",
     "output_type": "stream",
     "text": [
      "C:\\Users\\user\\AppData\\Local\\Temp\\ipykernel_21476\\591297471.py:1: FutureWarning: \n",
      "\n",
      "Passing `palette` without assigning `hue` is deprecated and will be removed in v0.14.0. Assign the `x` variable to `hue` and set `legend=False` for the same effect.\n",
      "\n",
      "  ax = sns.barplot(x='season', y='on_time_percent', data=df4, palette='magma')\n"
     ]
    },
    {
     "data": {
      "image/png": "[encoded data removed]",
      "text/plain": [
       "<Figure size 640x480 with 1 Axes>"
      ]
     },
     "metadata": {},
     "output_type": "display_data"
    }
   ],
   "source": [
    "ax = sns.barplot(x='season', y='on_time_percent', data=df4, palette='magma')\n",
    "for container in ax.containers:\n",
    "    ax.bar_label(container, labels=[f'{v:.1f}%' for v in container.datavalues], padding=3)\n",
    "plt.title(\"On-Time Performance by Season\")\n",
    "plt.xlabel(\"Season\")\n",
    "plt.ylabel(\"On-Time Percentage (%)\")\n",
    "plt.ylim(0, 100)\n",
    "plt.show();"
   ]
  },
  {
   "cell_type": "markdown",
   "id": "9e769b03",
   "metadata": {},
   "source": [
    "<h1 style='font-weight:bold'> 2. Delay Factors </h1>\n",
    "<h2> 2.1 Identify and rank the top 3 - 5 factors contributing to flight delays, based on the delays categories provided in the dataset </h2>"
   ]
  },
  {
   "cell_type": "code",
   "execution_count": null,
   "id": "b26f1e08",
   "metadata": {},
   "outputs": [
    {
     "name": "stderr",
     "output_type": "stream",
     "text": [
      "C:\\Users\\user\\AppData\\Local\\Temp\\ipykernel_21476\\2479858918.py:30: UserWarning: pandas only supports SQLAlchemy connectable (engine/connection) or database string URI or sqlite3 DBAPI2 connection. Other DBAPI2 objects are not tested. Please consider using SQLAlchemy.\n",
      "  df5 = pd.read_sql(query5, conn)\n"
     ]
    },
    {
     "data": {
      "application/vnd.microsoft.datawrangler.viewer.v0+json": {
       "columns": [
        {
         "name": "index",
         "rawType": "int64",
         "type": "integer"
        },
        {
         "name": "delay_type",
         "rawType": "object",
         "type": "string"
        },
        {
         "name": "total_delay",
         "rawType": "int64",
         "type": "integer"
        },
        {
         "name": "Total Dealay (000)",
         "rawType": "float64",
         "type": "float"
        }
       ],
       "ref": "6dc188a0-e499-4f42-8906-82e356d89356",
       "rows": [
        [
         "0",
         "Late Aircraft Delay",
         "32245816",
         "3225.0"
        ],
        [
         "1",
         "NAS Delay",
         "25610715",
         "2561.0"
        ],
        [
         "2",
         "Carrier Delay",
         "24255294",
         "2426.0"
        ],
        [
         "3",
         "Weather Delay",
         "4853843",
         "485.0"
        ],
        [
         "4",
         "Security Delay",
         "221371",
         "22.0"
        ]
       ],
       "shape": {
        "columns": 3,
        "rows": 5
       }
      },
      "text/html": [
       "<div>\n",
       "<style scoped>\n",
       "    .dataframe tbody tr th:only-of-type {\n",
       "        vertical-align: middle;\n",
       "    }\n",
       "\n",
       "    .dataframe tbody tr th {\n",
       "        vertical-align: top;\n",
       "    }\n",
       "\n",
       "    .dataframe thead th {\n",
       "        text-align: right;\n",
       "    }\n",
       "</style>\n",
       "<table border=\"1\" class=\"dataframe\">\n",
       "  <thead>\n",
       "    <tr style=\"text-align: right;\">\n",
       "      <th></th>\n",
       "      <th>delay_type</th>\n",
       "      <th>total_delay</th>\n",
       "      <th>Total Dealay (000)</th>\n",
       "    </tr>\n",
       "  </thead>\n",
       "  <tbody>\n",
       "    <tr>\n",
       "      <th>0</th>\n",
       "      <td>Late Aircraft Delay</td>\n",
       "      <td>32245816</td>\n",
       "      <td>3225.0</td>\n",
       "    </tr>\n",
       "    <tr>\n",
       "      <th>1</th>\n",
       "      <td>NAS Delay</td>\n",
       "      <td>25610715</td>\n",
       "      <td>2561.0</td>\n",
       "    </tr>\n",
       "    <tr>\n",
       "      <th>2</th>\n",
       "      <td>Carrier Delay</td>\n",
       "      <td>24255294</td>\n",
       "      <td>2426.0</td>\n",
       "    </tr>\n",
       "    <tr>\n",
       "      <th>3</th>\n",
       "      <td>Weather Delay</td>\n",
       "      <td>4853843</td>\n",
       "      <td>485.0</td>\n",
       "    </tr>\n",
       "    <tr>\n",
       "      <th>4</th>\n",
       "      <td>Security Delay</td>\n",
       "      <td>221371</td>\n",
       "      <td>22.0</td>\n",
       "    </tr>\n",
       "  </tbody>\n",
       "</table>\n",
       "</div>"
      ],
      "text/plain": [
       "            delay_type  total_delay  Total Dealay (000)\n",
       "0  Late Aircraft Delay     32245816              3225.0\n",
       "1            NAS Delay     25610715              2561.0\n",
       "2        Carrier Delay     24255294              2426.0\n",
       "3        Weather Delay      4853843               485.0\n",
       "4       Security Delay       221371                22.0"
      ]
     },
     "execution_count": 95,
     "metadata": {},
     "output_type": "execute_result"
    }
   ],
   "source": [
    "query5 = \"\"\"\n",
    "    SELECT \n",
    "        'Carrier Delay' AS delay_type, \n",
    "        SUM(carrierdelay) AS total_delay \n",
    "    FROM project2.airline_2006\n",
    "    UNION ALL\n",
    "    SELECT \n",
    "        'Weather Delay', \n",
    "        SUM(weatherdelay) \n",
    "    FROM project2.airline_2006\n",
    "    UNION ALL\n",
    "    SELECT \n",
    "        'NAS Delay', \n",
    "        SUM(nasdelay) \n",
    "    FROM project2.airline_2006\n",
    "    UNION ALL\n",
    "    SELECT \n",
    "        'Security Delay', \n",
    "        SUM(securitydelay) \n",
    "    FROM project2.airline_2006\n",
    "    UNION ALL\n",
    "    SELECT \n",
    "        'Late Aircraft Delay', \n",
    "        SUM(lateaircraftdelay) \n",
    "    FROM project2.airline_2006\n",
    "    ORDER BY total_delay DESC\n",
    "    LIMIT 5\n",
    "\"\"\"\n",
    "\n",
    "df5 = pd.read_sql(query5, conn)\n",
    "df5.columns = ['delay_type', 'total_delay']\n",
    "df5['Total Delay (000)'] = (df5['total_delay'] / 10000).round(0)  # Convert to thousands for better readability\n",
    "df5"
   ]
  },
  {
   "cell_type": "code",
   "execution_count": 98,
   "id": "41ce1d9e",
   "metadata": {},
   "outputs": [
    {
     "name": "stderr",
     "output_type": "stream",
     "text": [
      "C:\\Users\\user\\AppData\\Local\\Temp\\ipykernel_21476\\2111036185.py:1: FutureWarning: \n",
      "\n",
      "Passing `palette` without assigning `hue` is deprecated and will be removed in v0.14.0. Assign the `x` variable to `hue` and set `legend=False` for the same effect.\n",
      "\n",
      "  ax = sns.barplot(x='Total Dealay (000)', y='total_delay', data=df5, palette='magma')\n"
     ]
    },
    {
     "data": {
      "image/png": "[encoded data removed]",
      "text/plain": [
       "<Figure size 640x480 with 1 Axes>"
      ]
     },
     "metadata": {},
     "output_type": "display_data"
    }
   ],
   "source": [
    "ax = sns.barplot(x='Total Dealay (000)', y='total_delay', data=df5, palette='magma')\n",
    "for container in ax.containers:\n",
    "    ax.bar_label(container, labels=[f'{v:.1f}' for v in container.datavalues], padding=3)\n",
    "plt.title(\"Total Delay by Delay Type\")\n",
    "plt.xlabel(\"Delay Type\")\n",
    "plt.ylabel(\"Total Delay (minutes)\")\n",
    "plt.tight_layout()\n",
    "plt.show();"
   ]
  },
  {
   "cell_type": "markdown",
   "id": "960ddbb5",
   "metadata": {},
   "source": [
    "<h2> 2.2 Quantify the impact of each factor (in minutes of delay and percentage of total delays). </h2>"
   ]
  },
  {
   "cell_type": "code",
   "execution_count": null,
   "id": "5ef75515",
   "metadata": {},
   "outputs": [
    {
     "name": "stderr",
     "output_type": "stream",
     "text": [
      "C:\\Users\\user\\AppData\\Local\\Temp\\ipykernel_21476\\712895008.py:58: UserWarning: pandas only supports SQLAlchemy connectable (engine/connection) or database string URI or sqlite3 DBAPI2 connection. Other DBAPI2 objects are not tested. Please consider using SQLAlchemy.\n",
      "  df6 = pd.read_sql(query6, conn)\n"
     ]
    },
    {
     "data": {
      "application/vnd.microsoft.datawrangler.viewer.v0+json": {
       "columns": [
        {
         "name": "index",
         "rawType": "int64",
         "type": "integer"
        },
        {
         "name": "u1.delay_type",
         "rawType": "object",
         "type": "string"
        },
        {
         "name": "u1.delay_minutes",
         "rawType": "int64",
         "type": "integer"
        },
        {
         "name": "u1.percentage",
         "rawType": "float64",
         "type": "float"
        }
       ],
       "ref": "0934d5b4-ed85-4e8a-8190-279b2489f8ff",
       "rows": [
        [
         "0",
         "Late Aircraft Delay",
         "143279932",
         "35.56"
        ],
        [
         "1",
         "NAS Delay",
         "123638531",
         "30.68"
        ],
        [
         "2",
         "Carrier Delay",
         "111115872",
         "27.58"
        ],
        [
         "3",
         "Weather Delay",
         "24049544",
         "5.97"
        ],
        [
         "4",
         "Security Delay",
         "846239",
         "0.21"
        ]
       ],
       "shape": {
        "columns": 3,
        "rows": 5
       }
      },
      "text/html": [
       "<div>\n",
       "<style scoped>\n",
       "    .dataframe tbody tr th:only-of-type {\n",
       "        vertical-align: middle;\n",
       "    }\n",
       "\n",
       "    .dataframe tbody tr th {\n",
       "        vertical-align: top;\n",
       "    }\n",
       "\n",
       "    .dataframe thead th {\n",
       "        text-align: right;\n",
       "    }\n",
       "</style>\n",
       "<table border=\"1\" class=\"dataframe\">\n",
       "  <thead>\n",
       "    <tr style=\"text-align: right;\">\n",
       "      <th></th>\n",
       "      <th>u1.delay_type</th>\n",
       "      <th>u1.delay_minutes</th>\n",
       "      <th>u1.percentage</th>\n",
       "    </tr>\n",
       "  </thead>\n",
       "  <tbody>\n",
       "    <tr>\n",
       "      <th>0</th>\n",
       "      <td>Late Aircraft Delay</td>\n",
       "      <td>143279932</td>\n",
       "      <td>35.56</td>\n",
       "    </tr>\n",
       "    <tr>\n",
       "      <th>1</th>\n",
       "      <td>NAS Delay</td>\n",
       "      <td>123638531</td>\n",
       "      <td>30.68</td>\n",
       "    </tr>\n",
       "    <tr>\n",
       "      <th>2</th>\n",
       "      <td>Carrier Delay</td>\n",
       "      <td>111115872</td>\n",
       "      <td>27.58</td>\n",
       "    </tr>\n",
       "    <tr>\n",
       "      <th>3</th>\n",
       "      <td>Weather Delay</td>\n",
       "      <td>24049544</td>\n",
       "      <td>5.97</td>\n",
       "    </tr>\n",
       "    <tr>\n",
       "      <th>4</th>\n",
       "      <td>Security Delay</td>\n",
       "      <td>846239</td>\n",
       "      <td>0.21</td>\n",
       "    </tr>\n",
       "  </tbody>\n",
       "</table>\n",
       "</div>"
      ],
      "text/plain": [
       "         u1.delay_type  u1.delay_minutes  u1.percentage\n",
       "0  Late Aircraft Delay         143279932          35.56\n",
       "1            NAS Delay         123638531          30.68\n",
       "2        Carrier Delay         111115872          27.58\n",
       "3        Weather Delay          24049544           5.97\n",
       "4       Security Delay            846239           0.21"
      ]
     },
     "execution_count": 17,
     "metadata": {},
     "output_type": "execute_result"
    }
   ],
   "source": [
    "query6 = \"\"\"\n",
    "    WITH delay_totals AS (\n",
    "    SELECT\n",
    "        SUM(carrierdelay) AS carrier,\n",
    "        SUM(weatherdelay) AS weather,\n",
    "        SUM(nasdelay) AS nas,\n",
    "        SUM(securitydelay) AS security,\n",
    "        SUM(lateaircraftdelay) AS late_aircraft\n",
    "    FROM project2.airline_all\n",
    "    ),\n",
    "    total_delay AS (\n",
    "    SELECT\n",
    "        (carrier + weather + nas + security + late_aircraft) AS grand_total\n",
    "    FROM delay_totals\n",
    "    )\n",
    "\n",
    "    SELECT\n",
    "    'Carrier Delay' AS delay_type,\n",
    "    dt.carrier AS delay_minutes,\n",
    "    ROUND(100.0 * dt.carrier / td.grand_total, 2) AS percentage\n",
    "    FROM delay_totals dt, total_delay td\n",
    "\n",
    "    UNION ALL\n",
    "\n",
    "    SELECT\n",
    "    'Weather Delay',\n",
    "    dt.weather,\n",
    "    ROUND(100.0 * dt.weather / td.grand_total, 2)\n",
    "    FROM delay_totals dt, total_delay td\n",
    "\n",
    "    UNION ALL\n",
    "\n",
    "    SELECT\n",
    "    'NAS Delay',\n",
    "    dt.nas,\n",
    "    ROUND(100.0 * dt.nas / td.grand_total, 2)\n",
    "    FROM delay_totals dt, total_delay td\n",
    "\n",
    "    UNION ALL\n",
    "\n",
    "    SELECT\n",
    "    'Security Delay',\n",
    "    dt.security,\n",
    "    ROUND(100.0 * dt.security / td.grand_total, 2)\n",
    "    FROM delay_totals dt, total_delay td\n",
    "\n",
    "    UNION ALL\n",
    "\n",
    "    SELECT\n",
    "    'Late Aircraft Delay',\n",
    "    dt.late_aircraft,\n",
    "    ROUND(100.0 * dt.late_aircraft / td.grand_total, 2)\n",
    "    FROM delay_totals dt, total_delay td\n",
    "\n",
    "    ORDER BY percentage DESC\n",
    "\"\"\"\n",
    "\n",
    "df6 = pd.read_sql(query6, conn)\n",
    "df6.columns = ['delay_type', 'delay_minutes', 'percentage']\n",
    "df6\n"
   ]
  },
  {
   "cell_type": "code",
   "execution_count": 41,
   "id": "3785aa75",
   "metadata": {},
   "outputs": [
    {
     "name": "stderr",
     "output_type": "stream",
     "text": [
      "C:\\Users\\user\\AppData\\Local\\Temp\\ipykernel_21476\\3292482910.py:9: UserWarning: set_ticklabels() should only be used with a fixed number of ticks, i.e. after set_ticks() or using a FixedLocator.\n",
      "  ax1.set_xticklabels(df6['delay_type'], rotation=45, ha='right')\n"
     ]
    },
    {
     "data": {
      "image/png": "[encoded data removed]",
      "text/plain": [
       "<Figure size 1000x600 with 1 Axes>"
      ]
     },
     "metadata": {},
     "output_type": "display_data"
    }
   ],
   "source": [
    "# Set figure size\n",
    "fig, ax1 = plt.subplots(figsize=(10, 6))\n",
    "\n",
    "# Bar plot for delay_minutes\n",
    "ax1.bar(df6['delay_type'], df6['delay_minutes'], color='skyblue', label='Delay (minutes)')\n",
    "ax1.set_xlabel('Delay Type')\n",
    "ax1.set_ylabel('Delay Minutes', color='skyblue')\n",
    "ax1.tick_params(axis='y', labelcolor='skyblue')\n",
    "ax1.set_xticklabels(df6['delay_type'], rotation=45, ha='right')\n",
    "\n",
    "# Add legends\n",
    "fig.legend(loc='upper right', bbox_to_anchor=(1, 1), bbox_transform=ax1.transAxes)\n",
    "\n",
    "# Add title\n",
    "plt.title('Delay Impact by Type: Minutes vs Percentage')\n",
    "\n",
    "# Layout adjustment\n",
    "plt.tight_layout()\n",
    "plt.show()\n"
   ]
  },
  {
   "cell_type": "code",
   "execution_count": 40,
   "id": "be36e28e",
   "metadata": {},
   "outputs": [
    {
     "data": {
      "image/png": "[encoded data removed]",
      "text/plain": [
       "<Figure size 800x800 with 1 Axes>"
      ]
     },
     "metadata": {},
     "output_type": "display_data"
    }
   ],
   "source": [
    "# Pie chart\n",
    "fig, ax = plt.subplots(figsize=(8, 8))\n",
    "ax.pie(\n",
    "    df6['percentage'],\n",
    "    labels=df6['delay_type'],\n",
    "    autopct='%1.1f%%',\n",
    "    startangle=140,\n",
    "    colors=plt.cm.tab20.colors  # optional color scheme\n",
    ")\n",
    "\n",
    "# Title\n",
    "plt.title('Percentage Distribution of Delay Types')\n",
    "\n",
    "# Equal aspect ratio ensures pie is a circle\n",
    "plt.axis('equal')\n",
    "\n",
    "plt.show()"
   ]
  },
  {
   "cell_type": "code",
   "execution_count": 99,
   "id": "57a440ef",
   "metadata": {},
   "outputs": [
    {
     "data": {
      "image/png": "[encoded data removed]",
      "text/plain": [
       "<Figure size 800x800 with 1 Axes>"
      ]
     },
     "metadata": {},
     "output_type": "display_data"
    }
   ],
   "source": [
    "import matplotlib.pyplot as plt\n",
    "import seaborn as sns\n",
    "\n",
    "# Prepare labels and explode\n",
    "explode = [0.1 if p == max(df6['percentage']) else 0 for p in df6['percentage']]\n",
    "labels = [f\"{label}\\n({val:.1f}%)\" for label, val in zip(df6['delay_type'], df6['percentage'])]\n",
    "colors = sns.color_palette(\"pastel\")[0:len(df6)]\n",
    "\n",
    "# Create pie chart\n",
    "fig, ax = plt.subplots(figsize=(8, 8))\n",
    "ax.pie(\n",
    "    df6['percentage'],\n",
    "    labels=labels,\n",
    "    explode=explode,\n",
    "    startangle=140,\n",
    "    colors=colors,\n",
    "    wedgeprops=dict(edgecolor='black', linewidth=1)\n",
    ")\n",
    "\n",
    "# Add donut style\n",
    "centre_circle = plt.Circle((0, 0), 0.70, fc='white')\n",
    "fig.gca().add_artist(centre_circle)\n",
    "\n",
    "# Title and layout\n",
    "plt.title('Percentage Distribution of Delay Types', fontsize=14, weight='bold')\n",
    "plt.axis('equal')\n",
    "plt.tight_layout()\n",
    "plt.show()\n"
   ]
  },
  {
   "cell_type": "markdown",
   "id": "fe8dc649",
   "metadata": {},
   "source": [
    "From the pie chart above, we can see that the factors that contribute the most"
   ]
  },
  {
   "cell_type": "markdown",
   "id": "8a507c68",
   "metadata": {},
   "source": [
    "<h1 style='font-weight:bold'> 3. Cancellation Analysis </h1>\n",
    "\n",
    "<h2> 3.1 Identify the primary reasons for flight cancellations as categorized in the dataset. </h2>"
   ]
  },
  {
   "cell_type": "code",
   "execution_count": null,
   "id": "a645fb30",
   "metadata": {},
   "outputs": [
    {
     "name": "stderr",
     "output_type": "stream",
     "text": [
      "C:\\Users\\user\\AppData\\Local\\Temp\\ipykernel_21476\\2437795327.py:24: UserWarning: pandas only supports SQLAlchemy connectable (engine/connection) or database string URI or sqlite3 DBAPI2 connection. Other DBAPI2 objects are not tested. Please consider using SQLAlchemy.\n",
      "  df7 = pd.read_sql(query7, conn)\n"
     ]
    },
    {
     "data": {
      "application/vnd.microsoft.datawrangler.viewer.v0+json": {
       "columns": [
        {
         "name": "index",
         "rawType": "int64",
         "type": "integer"
        },
        {
         "name": "cancellation_reason",
         "rawType": "object",
         "type": "string"
        },
        {
         "name": "total_cancellations",
         "rawType": "int64",
         "type": "integer"
        }
       ],
       "ref": "0605141a-6aa0-4451-8f76-4d2ed146b6e1",
       "rows": [
        [
         "0",
         "Unknown",
         "1568795"
        ],
        [
         "1",
         "Carrier",
         "289613"
        ],
        [
         "2",
         "Weather",
         "237840"
        ],
        [
         "3",
         "NAS",
         "133489"
        ],
        [
         "4",
         "Security",
         "595"
        ]
       ],
       "shape": {
        "columns": 2,
        "rows": 5
       }
      },
      "text/html": [
       "<div>\n",
       "<style scoped>\n",
       "    .dataframe tbody tr th:only-of-type {\n",
       "        vertical-align: middle;\n",
       "    }\n",
       "\n",
       "    .dataframe tbody tr th {\n",
       "        vertical-align: top;\n",
       "    }\n",
       "\n",
       "    .dataframe thead th {\n",
       "        text-align: right;\n",
       "    }\n",
       "</style>\n",
       "<table border=\"1\" class=\"dataframe\">\n",
       "  <thead>\n",
       "    <tr style=\"text-align: right;\">\n",
       "      <th></th>\n",
       "      <th>cancellation_reason</th>\n",
       "      <th>total_cancellations</th>\n",
       "    </tr>\n",
       "  </thead>\n",
       "  <tbody>\n",
       "    <tr>\n",
       "      <th>0</th>\n",
       "      <td>Unknown</td>\n",
       "      <td>1568795</td>\n",
       "    </tr>\n",
       "    <tr>\n",
       "      <th>1</th>\n",
       "      <td>Carrier</td>\n",
       "      <td>289613</td>\n",
       "    </tr>\n",
       "    <tr>\n",
       "      <th>2</th>\n",
       "      <td>Weather</td>\n",
       "      <td>237840</td>\n",
       "    </tr>\n",
       "    <tr>\n",
       "      <th>3</th>\n",
       "      <td>NAS</td>\n",
       "      <td>133489</td>\n",
       "    </tr>\n",
       "    <tr>\n",
       "      <th>4</th>\n",
       "      <td>Security</td>\n",
       "      <td>595</td>\n",
       "    </tr>\n",
       "  </tbody>\n",
       "</table>\n",
       "</div>"
      ],
      "text/plain": [
       "  cancellation_reason  total_cancellations\n",
       "0             Unknown              1568795\n",
       "1             Carrier               289613\n",
       "2             Weather               237840\n",
       "3                 NAS               133489\n",
       "4            Security                  595"
      ]
     },
     "execution_count": 18,
     "metadata": {},
     "output_type": "execute_result"
    }
   ],
   "source": [
    "query7 = \"\"\"\n",
    "    SELECT\n",
    "    CASE cancellationcode\n",
    "        WHEN 'A' THEN 'Carrier'\n",
    "        WHEN 'B' THEN 'Weather'\n",
    "        WHEN 'C' THEN 'NAS'\n",
    "        WHEN 'D' THEN 'Security'\n",
    "        ELSE 'Unknown'\n",
    "    END AS cancellation_reason,\n",
    "    COUNT(*) AS total_cancellations\n",
    "    FROM project2.airline_2006\n",
    "    WHERE cancelled = 1 AND cancellationcode IS NOT NULL\n",
    "    GROUP BY\n",
    "    CASE cancellationcode\n",
    "        WHEN 'A' THEN 'Carrier'\n",
    "        WHEN 'B' THEN 'Weather'\n",
    "        WHEN 'C' THEN 'NAS'\n",
    "        WHEN 'D' THEN 'Security'\n",
    "        ELSE 'Unknown'\n",
    "    END\n",
    "    ORDER BY total_cancellations DESC\n",
    "\"\"\"\n",
    "\n",
    "df7 = pd.read_sql(query7, conn)\n",
    "df7"
   ]
  },
  {
   "cell_type": "code",
   "execution_count": null,
   "id": "2bba49e8",
   "metadata": {},
   "outputs": [],
   "source": []
  },
  {
   "cell_type": "markdown",
   "id": "027b60ba",
   "metadata": {},
   "source": [
    "<h2> 3.2 Determine if cancellations correlate with specific airlines, airports, or time periods. </h2>"
   ]
  },
  {
   "cell_type": "code",
   "execution_count": 42,
   "id": "6b6aada4",
   "metadata": {},
   "outputs": [
    {
     "name": "stderr",
     "output_type": "stream",
     "text": [
      "C:\\Users\\user\\AppData\\Local\\Temp\\ipykernel_21476\\2146444221.py:13: UserWarning: pandas only supports SQLAlchemy connectable (engine/connection) or database string URI or sqlite3 DBAPI2 connection. Other DBAPI2 objects are not tested. Please consider using SQLAlchemy.\n",
      "  df8 = pd.read_sql(query8, conn)\n"
     ]
    },
    {
     "data": {
      "application/vnd.microsoft.datawrangler.viewer.v0+json": {
       "columns": [
        {
         "name": "index",
         "rawType": "int64",
         "type": "integer"
        },
        {
         "name": "airline",
         "rawType": "object",
         "type": "string"
        },
        {
         "name": "total_flights",
         "rawType": "int64",
         "type": "integer"
        },
        {
         "name": "cancellations",
         "rawType": "int64",
         "type": "integer"
        },
        {
         "name": "cancel_rate",
         "rawType": "float64",
         "type": "float"
        }
       ],
       "ref": "ab9323a6-e66c-4a58-bb1f-aed32eb805d7",
       "rows": [
        [
         "0",
         "MQ",
         "550088",
         "19990",
         "3.63"
        ],
        [
         "1",
         "YV",
         "304764",
         "9544",
         "3.13"
        ],
        [
         "2",
         "EV",
         "273143",
         "6783",
         "2.48"
        ],
        [
         "3",
         "OH",
         "278099",
         "6875",
         "2.47"
        ],
        [
         "4",
         "OO",
         "548109",
         "12844",
         "2.34"
        ],
        [
         "5",
         "XE",
         "441470",
         "9716",
         "2.2"
        ],
        [
         "6",
         "AQ",
         "35387",
         "745",
         "2.11"
        ],
        [
         "7",
         "UA",
         "500008",
         "10238",
         "2.05"
        ],
        [
         "8",
         "AA",
         "643597",
         "10127",
         "1.57"
        ],
        [
         "9",
         "DL",
         "506086",
         "7695",
         "1.52"
        ],
        [
         "10",
         "AS",
         "159404",
         "2430",
         "1.52"
        ],
        [
         "11",
         "TZ",
         "19602",
         "227",
         "1.16"
        ],
        [
         "12",
         "NW",
         "432880",
         "4854",
         "1.12"
        ],
        [
         "13",
         "US",
         "504844",
         "5511",
         "1.09"
        ],
        [
         "14",
         "F9",
         "90181",
         "902",
         "1.0"
        ],
        [
         "15",
         "FL",
         "237645",
         "1941",
         "0.82"
        ],
        [
         "16",
         "WN",
         "1099321",
         "8951",
         "0.81"
        ],
        [
         "17",
         "CO",
         "309389",
         "1649",
         "0.53"
        ],
        [
         "18",
         "HA",
         "52173",
         "253",
         "0.48"
        ],
        [
         "19",
         "B6",
         "155732",
         "659",
         "0.42"
        ]
       ],
       "shape": {
        "columns": 4,
        "rows": 20
       }
      },
      "text/html": [
       "<div>\n",
       "<style scoped>\n",
       "    .dataframe tbody tr th:only-of-type {\n",
       "        vertical-align: middle;\n",
       "    }\n",
       "\n",
       "    .dataframe tbody tr th {\n",
       "        vertical-align: top;\n",
       "    }\n",
       "\n",
       "    .dataframe thead th {\n",
       "        text-align: right;\n",
       "    }\n",
       "</style>\n",
       "<table border=\"1\" class=\"dataframe\">\n",
       "  <thead>\n",
       "    <tr style=\"text-align: right;\">\n",
       "      <th></th>\n",
       "      <th>airline</th>\n",
       "      <th>total_flights</th>\n",
       "      <th>cancellations</th>\n",
       "      <th>cancel_rate</th>\n",
       "    </tr>\n",
       "  </thead>\n",
       "  <tbody>\n",
       "    <tr>\n",
       "      <th>0</th>\n",
       "      <td>MQ</td>\n",
       "      <td>550088</td>\n",
       "      <td>19990</td>\n",
       "      <td>3.63</td>\n",
       "    </tr>\n",
       "    <tr>\n",
       "      <th>1</th>\n",
       "      <td>YV</td>\n",
       "      <td>304764</td>\n",
       "      <td>9544</td>\n",
       "      <td>3.13</td>\n",
       "    </tr>\n",
       "    <tr>\n",
       "      <th>2</th>\n",
       "      <td>EV</td>\n",
       "      <td>273143</td>\n",
       "      <td>6783</td>\n",
       "      <td>2.48</td>\n",
       "    </tr>\n",
       "    <tr>\n",
       "      <th>3</th>\n",
       "      <td>OH</td>\n",
       "      <td>278099</td>\n",
       "      <td>6875</td>\n",
       "      <td>2.47</td>\n",
       "    </tr>\n",
       "    <tr>\n",
       "      <th>4</th>\n",
       "      <td>OO</td>\n",
       "      <td>548109</td>\n",
       "      <td>12844</td>\n",
       "      <td>2.34</td>\n",
       "    </tr>\n",
       "    <tr>\n",
       "      <th>5</th>\n",
       "      <td>XE</td>\n",
       "      <td>441470</td>\n",
       "      <td>9716</td>\n",
       "      <td>2.20</td>\n",
       "    </tr>\n",
       "    <tr>\n",
       "      <th>6</th>\n",
       "      <td>AQ</td>\n",
       "      <td>35387</td>\n",
       "      <td>745</td>\n",
       "      <td>2.11</td>\n",
       "    </tr>\n",
       "    <tr>\n",
       "      <th>7</th>\n",
       "      <td>UA</td>\n",
       "      <td>500008</td>\n",
       "      <td>10238</td>\n",
       "      <td>2.05</td>\n",
       "    </tr>\n",
       "    <tr>\n",
       "      <th>8</th>\n",
       "      <td>AA</td>\n",
       "      <td>643597</td>\n",
       "      <td>10127</td>\n",
       "      <td>1.57</td>\n",
       "    </tr>\n",
       "    <tr>\n",
       "      <th>9</th>\n",
       "      <td>DL</td>\n",
       "      <td>506086</td>\n",
       "      <td>7695</td>\n",
       "      <td>1.52</td>\n",
       "    </tr>\n",
       "    <tr>\n",
       "      <th>10</th>\n",
       "      <td>AS</td>\n",
       "      <td>159404</td>\n",
       "      <td>2430</td>\n",
       "      <td>1.52</td>\n",
       "    </tr>\n",
       "    <tr>\n",
       "      <th>11</th>\n",
       "      <td>TZ</td>\n",
       "      <td>19602</td>\n",
       "      <td>227</td>\n",
       "      <td>1.16</td>\n",
       "    </tr>\n",
       "    <tr>\n",
       "      <th>12</th>\n",
       "      <td>NW</td>\n",
       "      <td>432880</td>\n",
       "      <td>4854</td>\n",
       "      <td>1.12</td>\n",
       "    </tr>\n",
       "    <tr>\n",
       "      <th>13</th>\n",
       "      <td>US</td>\n",
       "      <td>504844</td>\n",
       "      <td>5511</td>\n",
       "      <td>1.09</td>\n",
       "    </tr>\n",
       "    <tr>\n",
       "      <th>14</th>\n",
       "      <td>F9</td>\n",
       "      <td>90181</td>\n",
       "      <td>902</td>\n",
       "      <td>1.00</td>\n",
       "    </tr>\n",
       "    <tr>\n",
       "      <th>15</th>\n",
       "      <td>FL</td>\n",
       "      <td>237645</td>\n",
       "      <td>1941</td>\n",
       "      <td>0.82</td>\n",
       "    </tr>\n",
       "    <tr>\n",
       "      <th>16</th>\n",
       "      <td>WN</td>\n",
       "      <td>1099321</td>\n",
       "      <td>8951</td>\n",
       "      <td>0.81</td>\n",
       "    </tr>\n",
       "    <tr>\n",
       "      <th>17</th>\n",
       "      <td>CO</td>\n",
       "      <td>309389</td>\n",
       "      <td>1649</td>\n",
       "      <td>0.53</td>\n",
       "    </tr>\n",
       "    <tr>\n",
       "      <th>18</th>\n",
       "      <td>HA</td>\n",
       "      <td>52173</td>\n",
       "      <td>253</td>\n",
       "      <td>0.48</td>\n",
       "    </tr>\n",
       "    <tr>\n",
       "      <th>19</th>\n",
       "      <td>B6</td>\n",
       "      <td>155732</td>\n",
       "      <td>659</td>\n",
       "      <td>0.42</td>\n",
       "    </tr>\n",
       "  </tbody>\n",
       "</table>\n",
       "</div>"
      ],
      "text/plain": [
       "   airline  total_flights  cancellations  cancel_rate\n",
       "0       MQ         550088          19990         3.63\n",
       "1       YV         304764           9544         3.13\n",
       "2       EV         273143           6783         2.48\n",
       "3       OH         278099           6875         2.47\n",
       "4       OO         548109          12844         2.34\n",
       "5       XE         441470           9716         2.20\n",
       "6       AQ          35387            745         2.11\n",
       "7       UA         500008          10238         2.05\n",
       "8       AA         643597          10127         1.57\n",
       "9       DL         506086           7695         1.52\n",
       "10      AS         159404           2430         1.52\n",
       "11      TZ          19602            227         1.16\n",
       "12      NW         432880           4854         1.12\n",
       "13      US         504844           5511         1.09\n",
       "14      F9          90181            902         1.00\n",
       "15      FL         237645           1941         0.82\n",
       "16      WN        1099321           8951         0.81\n",
       "17      CO         309389           1649         0.53\n",
       "18      HA          52173            253         0.48\n",
       "19      B6         155732            659         0.42"
      ]
     },
     "execution_count": 42,
     "metadata": {},
     "output_type": "execute_result"
    }
   ],
   "source": [
    "# by airline\n",
    "query8 = \"\"\"\n",
    "    SELECT\n",
    "        uniquecarrier AS airline,\n",
    "        COUNT(*) AS total_flights,\n",
    "        SUM(CASE WHEN cancelled = 1 THEN 1 ELSE 0 END) AS cancellations,\n",
    "        ROUND(100.0 * SUM(CASE WHEN cancelled = 1 THEN 1 ELSE 0 END) / COUNT(*), 2) AS cancel_rate\n",
    "    FROM project2.airline_2006\n",
    "    GROUP BY uniquecarrier\n",
    "    ORDER BY cancel_rate DESC\n",
    "\"\"\"\n",
    "\n",
    "df8 = pd.read_sql(query8, conn)\n",
    "df8"
   ]
  },
  {
   "cell_type": "code",
   "execution_count": null,
   "id": "6cacc1dc",
   "metadata": {},
   "outputs": [],
   "source": []
  },
  {
   "cell_type": "code",
   "execution_count": 20,
   "id": "349f30b1",
   "metadata": {},
   "outputs": [
    {
     "name": "stderr",
     "output_type": "stream",
     "text": [
      "C:\\Users\\user\\AppData\\Local\\Temp\\ipykernel_21476\\571251725.py:13: UserWarning: pandas only supports SQLAlchemy connectable (engine/connection) or database string URI or sqlite3 DBAPI2 connection. Other DBAPI2 objects are not tested. Please consider using SQLAlchemy.\n",
      "  df9 = pd.read_sql(query9, conn)\n"
     ]
    },
    {
     "data": {
      "application/vnd.microsoft.datawrangler.viewer.v0+json": {
       "columns": [
        {
         "name": "index",
         "rawType": "int64",
         "type": "integer"
        },
        {
         "name": "airport",
         "rawType": "object",
         "type": "string"
        },
        {
         "name": "total_flights",
         "rawType": "int64",
         "type": "integer"
        },
        {
         "name": "cancellations",
         "rawType": "int64",
         "type": "integer"
        },
        {
         "name": "cancel_rate",
         "rawType": "float64",
         "type": "float"
        }
       ],
       "ref": "b8f2c20f-b80d-491d-8fe1-e3ff0f63f0b6",
       "rows": [
        [
         "0",
         "PVU",
         "2",
         "1",
         "50.0"
        ],
        [
         "1",
         "DUT",
         "6336",
         "1282",
         "20.23"
        ],
        [
         "2",
         "TEX",
         "655",
         "100",
         "15.27"
        ],
        [
         "3",
         "BJI",
         "128",
         "14",
         "10.94"
        ],
        [
         "4",
         "ASE",
         "11570",
         "1170",
         "10.11"
        ],
        [
         "5",
         "INL",
         "218",
         "22",
         "10.09"
        ],
        [
         "6",
         "RHI",
         "255",
         "25",
         "9.8"
        ],
        [
         "7",
         "ACK",
         "1355",
         "130",
         "9.59"
        ],
        [
         "8",
         "CMX",
         "430",
         "41",
         "9.53"
        ],
        [
         "9",
         "KSM",
         "467",
         "44",
         "9.42"
        ],
        [
         "10",
         "ALO",
         "1345",
         "118",
         "8.77"
        ],
        [
         "11",
         "ADK",
         "521",
         "41",
         "7.87"
        ],
        [
         "12",
         "MKK",
         "289",
         "22",
         "7.61"
        ],
        [
         "13",
         "VIS",
         "1993",
         "149",
         "7.48"
        ],
        [
         "14",
         "TVL",
         "3314",
         "243",
         "7.33"
        ],
        [
         "15",
         "ADQ",
         "9863",
         "686",
         "6.96"
        ],
        [
         "16",
         "ROP",
         "1958",
         "131",
         "6.69"
        ],
        [
         "17",
         "SPI",
         "5306",
         "354",
         "6.67"
        ],
        [
         "18",
         "ORH",
         "14321",
         "917",
         "6.4"
        ],
        [
         "19",
         "SUN",
         "16745",
         "1033",
         "6.17"
        ],
        [
         "20",
         "HPN",
         "118394",
         "7173",
         "6.06"
        ],
        [
         "21",
         "MAZ",
         "149",
         "9",
         "6.04"
        ],
        [
         "22",
         "HHH",
         "1311",
         "74",
         "5.64"
        ],
        [
         "23",
         "PSG",
         "14550",
         "818",
         "5.62"
        ],
        [
         "24",
         "DBQ",
         "9339",
         "507",
         "5.43"
        ],
        [
         "25",
         "BMI",
         "20009",
         "1065",
         "5.32"
        ],
        [
         "26",
         "ANI",
         "475",
         "25",
         "5.26"
        ],
        [
         "27",
         "TUP",
         "1971",
         "101",
         "5.12"
        ],
        [
         "28",
         "PLN",
         "550",
         "28",
         "5.09"
        ],
        [
         "29",
         "ATW",
         "21041",
         "1054",
         "5.01"
        ],
        [
         "30",
         "BRW",
         "12549",
         "628",
         "5.0"
        ],
        [
         "31",
         "ILG",
         "794",
         "39",
         "4.91"
        ],
        [
         "32",
         "HVN",
         "7365",
         "354",
         "4.81"
        ],
        [
         "33",
         "CWA",
         "5838",
         "279",
         "4.78"
        ],
        [
         "34",
         "FLG",
         "16195",
         "768",
         "4.74"
        ],
        [
         "35",
         "WRG",
         "14556",
         "687",
         "4.72"
        ],
        [
         "36",
         "MQT",
         "5100",
         "240",
         "4.71"
        ],
        [
         "37",
         "MOD",
         "10612",
         "498",
         "4.69"
        ],
        [
         "38",
         "MCN",
         "6822",
         "317",
         "4.65"
        ],
        [
         "39",
         "MEI",
         "5813",
         "265",
         "4.56"
        ],
        [
         "40",
         "LNY",
         "289",
         "13",
         "4.5"
        ],
        [
         "41",
         "CMI",
         "26674",
         "1180",
         "4.42"
        ],
        [
         "42",
         "EFD",
         "3633",
         "159",
         "4.38"
        ],
        [
         "43",
         "ROR",
         "2228",
         "97",
         "4.35"
        ],
        [
         "44",
         "HKY",
         "648",
         "28",
         "4.32"
        ],
        [
         "45",
         "AZO",
         "62455",
         "2690",
         "4.31"
        ],
        [
         "46",
         "SCC",
         "11068",
         "477",
         "4.31"
        ],
        [
         "47",
         "OTZ",
         "20084",
         "862",
         "4.29"
        ],
        [
         "48",
         "PIA",
         "41134",
         "1757",
         "4.27"
        ],
        [
         "49",
         "BET",
         "19120",
         "798",
         "4.17"
        ]
       ],
       "shape": {
        "columns": 4,
        "rows": 346
       }
      },
      "text/html": [
       "<div>\n",
       "<style scoped>\n",
       "    .dataframe tbody tr th:only-of-type {\n",
       "        vertical-align: middle;\n",
       "    }\n",
       "\n",
       "    .dataframe tbody tr th {\n",
       "        vertical-align: top;\n",
       "    }\n",
       "\n",
       "    .dataframe thead th {\n",
       "        text-align: right;\n",
       "    }\n",
       "</style>\n",
       "<table border=\"1\" class=\"dataframe\">\n",
       "  <thead>\n",
       "    <tr style=\"text-align: right;\">\n",
       "      <th></th>\n",
       "      <th>airport</th>\n",
       "      <th>total_flights</th>\n",
       "      <th>cancellations</th>\n",
       "      <th>cancel_rate</th>\n",
       "    </tr>\n",
       "  </thead>\n",
       "  <tbody>\n",
       "    <tr>\n",
       "      <th>0</th>\n",
       "      <td>PVU</td>\n",
       "      <td>2</td>\n",
       "      <td>1</td>\n",
       "      <td>50.00</td>\n",
       "    </tr>\n",
       "    <tr>\n",
       "      <th>1</th>\n",
       "      <td>DUT</td>\n",
       "      <td>6336</td>\n",
       "      <td>1282</td>\n",
       "      <td>20.23</td>\n",
       "    </tr>\n",
       "    <tr>\n",
       "      <th>2</th>\n",
       "      <td>TEX</td>\n",
       "      <td>655</td>\n",
       "      <td>100</td>\n",
       "      <td>15.27</td>\n",
       "    </tr>\n",
       "    <tr>\n",
       "      <th>3</th>\n",
       "      <td>BJI</td>\n",
       "      <td>128</td>\n",
       "      <td>14</td>\n",
       "      <td>10.94</td>\n",
       "    </tr>\n",
       "    <tr>\n",
       "      <th>4</th>\n",
       "      <td>ASE</td>\n",
       "      <td>11570</td>\n",
       "      <td>1170</td>\n",
       "      <td>10.11</td>\n",
       "    </tr>\n",
       "    <tr>\n",
       "      <th>...</th>\n",
       "      <td>...</td>\n",
       "      <td>...</td>\n",
       "      <td>...</td>\n",
       "      <td>...</td>\n",
       "    </tr>\n",
       "    <tr>\n",
       "      <th>341</th>\n",
       "      <td>CYS</td>\n",
       "      <td>2</td>\n",
       "      <td>0</td>\n",
       "      <td>0.00</td>\n",
       "    </tr>\n",
       "    <tr>\n",
       "      <th>342</th>\n",
       "      <td>OGD</td>\n",
       "      <td>6</td>\n",
       "      <td>0</td>\n",
       "      <td>0.00</td>\n",
       "    </tr>\n",
       "    <tr>\n",
       "      <th>343</th>\n",
       "      <td>MKC</td>\n",
       "      <td>1</td>\n",
       "      <td>0</td>\n",
       "      <td>0.00</td>\n",
       "    </tr>\n",
       "    <tr>\n",
       "      <th>344</th>\n",
       "      <td>GCC</td>\n",
       "      <td>95</td>\n",
       "      <td>0</td>\n",
       "      <td>0.00</td>\n",
       "    </tr>\n",
       "    <tr>\n",
       "      <th>345</th>\n",
       "      <td>LMT</td>\n",
       "      <td>58</td>\n",
       "      <td>0</td>\n",
       "      <td>0.00</td>\n",
       "    </tr>\n",
       "  </tbody>\n",
       "</table>\n",
       "<p>346 rows × 4 columns</p>\n",
       "</div>"
      ],
      "text/plain": [
       "    airport  total_flights  cancellations  cancel_rate\n",
       "0       PVU              2              1        50.00\n",
       "1       DUT           6336           1282        20.23\n",
       "2       TEX            655            100        15.27\n",
       "3       BJI            128             14        10.94\n",
       "4       ASE          11570           1170        10.11\n",
       "..      ...            ...            ...          ...\n",
       "341     CYS              2              0         0.00\n",
       "342     OGD              6              0         0.00\n",
       "343     MKC              1              0         0.00\n",
       "344     GCC             95              0         0.00\n",
       "345     LMT             58              0         0.00\n",
       "\n",
       "[346 rows x 4 columns]"
      ]
     },
     "execution_count": 20,
     "metadata": {},
     "output_type": "execute_result"
    }
   ],
   "source": [
    "# by origin airport\n",
    "query9 = \"\"\"\n",
    "  SELECT\n",
    "    origin AS airport,\n",
    "    COUNT(*) AS total_flights,\n",
    "    SUM(CASE WHEN cancelled = 1 THEN 1 ELSE 0 END) AS cancellations,\n",
    "    ROUND(100.0 * SUM(CASE WHEN cancelled = 1 THEN 1 ELSE 0 END) / COUNT(*), 2) AS cancel_rate\n",
    "  FROM project2.airline_all\n",
    "  GROUP BY origin\n",
    "  ORDER BY cancel_rate DESC\n",
    "\"\"\"\n",
    "\n",
    "df9 = pd.read_sql(query9, conn)\n",
    "df9"
   ]
  },
  {
   "cell_type": "code",
   "execution_count": 21,
   "id": "cbc5ac1a",
   "metadata": {},
   "outputs": [
    {
     "name": "stderr",
     "output_type": "stream",
     "text": [
      "C:\\Users\\user\\AppData\\Local\\Temp\\ipykernel_21476\\938194752.py:13: UserWarning: pandas only supports SQLAlchemy connectable (engine/connection) or database string URI or sqlite3 DBAPI2 connection. Other DBAPI2 objects are not tested. Please consider using SQLAlchemy.\n",
      "  df10 = pd.read_sql(query10, conn)\n"
     ]
    }
   ],
   "source": [
    "# by month\n",
    "query10 = \"\"\"\n",
    "    SELECT\n",
    "        month,\n",
    "        COUNT(*) AS total_flights,\n",
    "        SUM(CASE WHEN cancelled = 1 THEN 1 ELSE 0 END) AS cancellations,\n",
    "        ROUND(100.0 * SUM(CASE WHEN cancelled = 1 THEN 1 ELSE 0 END) / COUNT(*), 2) AS cancel_rate\n",
    "    FROM project2.airline_all\n",
    "    GROUP BY month\n",
    "    ORDER BY cancel_rate DESC\n",
    "\"\"\"\n",
    "\n",
    "df10 = pd.read_sql(query10, conn)\n",
    "df10;"
   ]
  },
  {
   "cell_type": "markdown",
   "id": "42aab565",
   "metadata": {},
   "source": [
    "<h1 style='font-weight:bold'> Problematic Routes </h1>\n",
    "\n",
    "<h2> identify specific routes (origin-destination pairs), carriers, or flight numbers that show consistently poor performance </h2>"
   ]
  },
  {
   "cell_type": "code",
   "execution_count": 22,
   "id": "7d5e051e",
   "metadata": {},
   "outputs": [
    {
     "name": "stderr",
     "output_type": "stream",
     "text": [
      "C:\\Users\\user\\AppData\\Local\\Temp\\ipykernel_21476\\3873773230.py:18: UserWarning: pandas only supports SQLAlchemy connectable (engine/connection) or database string URI or sqlite3 DBAPI2 connection. Other DBAPI2 objects are not tested. Please consider using SQLAlchemy.\n",
      "  df11 = pd.read_sql(query11, conn)\n"
     ]
    },
    {
     "data": {
      "application/vnd.microsoft.datawrangler.viewer.v0+json": {
       "columns": [
        {
         "name": "index",
         "rawType": "int64",
         "type": "integer"
        },
        {
         "name": "origin",
         "rawType": "object",
         "type": "string"
        },
        {
         "name": "dest",
         "rawType": "object",
         "type": "string"
        },
        {
         "name": "total_flights",
         "rawType": "int64",
         "type": "integer"
        },
        {
         "name": "avg_depdelay",
         "rawType": "float64",
         "type": "float"
        },
        {
         "name": "cancellations",
         "rawType": "int64",
         "type": "integer"
        },
        {
         "name": "cancel_rate",
         "rawType": "float64",
         "type": "float"
        }
       ],
       "ref": "6b41e09c-35a1-4d0d-a838-725fae5bab9e",
       "rows": [
        [
         "0",
         "MKE",
         "MQT",
         "128",
         "62.16949152542373",
         "10",
         "7.81"
        ],
        [
         "1",
         "ACK",
         "JFK",
         "147",
         "55.09090909090909",
         "15",
         "10.2"
        ],
        [
         "2",
         "ASE",
         "ORD",
         "584",
         "48.98640776699029",
         "69",
         "11.82"
        ],
        [
         "3",
         "SFO",
         "EGE",
         "439",
         "40.9375",
         "7",
         "1.59"
        ],
        [
         "4",
         "ASE",
         "SFO",
         "162",
         "39.66197183098591",
         "20",
         "12.35"
        ],
        [
         "5",
         "MQT",
         "MKE",
         "127",
         "38.47457627118644",
         "9",
         "7.09"
        ],
        [
         "6",
         "DFW",
         "MDT",
         "602",
         "31.93344709897611",
         "16",
         "2.66"
        ],
        [
         "7",
         "LGA",
         "FNT",
         "283",
         "31.87966804979253",
         "42",
         "14.84"
        ],
        [
         "8",
         "EGE",
         "MIA",
         "381",
         "31.762666666666668",
         "6",
         "1.57"
        ],
        [
         "9",
         "DAB",
         "LGA",
         "175",
         "31.74390243902439",
         "11",
         "6.29"
        ]
       ],
       "shape": {
        "columns": 6,
        "rows": 10
       }
      },
      "text/html": [
       "<div>\n",
       "<style scoped>\n",
       "    .dataframe tbody tr th:only-of-type {\n",
       "        vertical-align: middle;\n",
       "    }\n",
       "\n",
       "    .dataframe tbody tr th {\n",
       "        vertical-align: top;\n",
       "    }\n",
       "\n",
       "    .dataframe thead th {\n",
       "        text-align: right;\n",
       "    }\n",
       "</style>\n",
       "<table border=\"1\" class=\"dataframe\">\n",
       "  <thead>\n",
       "    <tr style=\"text-align: right;\">\n",
       "      <th></th>\n",
       "      <th>origin</th>\n",
       "      <th>dest</th>\n",
       "      <th>total_flights</th>\n",
       "      <th>avg_depdelay</th>\n",
       "      <th>cancellations</th>\n",
       "      <th>cancel_rate</th>\n",
       "    </tr>\n",
       "  </thead>\n",
       "  <tbody>\n",
       "    <tr>\n",
       "      <th>0</th>\n",
       "      <td>MKE</td>\n",
       "      <td>MQT</td>\n",
       "      <td>128</td>\n",
       "      <td>62.169492</td>\n",
       "      <td>10</td>\n",
       "      <td>7.81</td>\n",
       "    </tr>\n",
       "    <tr>\n",
       "      <th>1</th>\n",
       "      <td>ACK</td>\n",
       "      <td>JFK</td>\n",
       "      <td>147</td>\n",
       "      <td>55.090909</td>\n",
       "      <td>15</td>\n",
       "      <td>10.20</td>\n",
       "    </tr>\n",
       "    <tr>\n",
       "      <th>2</th>\n",
       "      <td>ASE</td>\n",
       "      <td>ORD</td>\n",
       "      <td>584</td>\n",
       "      <td>48.986408</td>\n",
       "      <td>69</td>\n",
       "      <td>11.82</td>\n",
       "    </tr>\n",
       "    <tr>\n",
       "      <th>3</th>\n",
       "      <td>SFO</td>\n",
       "      <td>EGE</td>\n",
       "      <td>439</td>\n",
       "      <td>40.937500</td>\n",
       "      <td>7</td>\n",
       "      <td>1.59</td>\n",
       "    </tr>\n",
       "    <tr>\n",
       "      <th>4</th>\n",
       "      <td>ASE</td>\n",
       "      <td>SFO</td>\n",
       "      <td>162</td>\n",
       "      <td>39.661972</td>\n",
       "      <td>20</td>\n",
       "      <td>12.35</td>\n",
       "    </tr>\n",
       "    <tr>\n",
       "      <th>5</th>\n",
       "      <td>MQT</td>\n",
       "      <td>MKE</td>\n",
       "      <td>127</td>\n",
       "      <td>38.474576</td>\n",
       "      <td>9</td>\n",
       "      <td>7.09</td>\n",
       "    </tr>\n",
       "    <tr>\n",
       "      <th>6</th>\n",
       "      <td>DFW</td>\n",
       "      <td>MDT</td>\n",
       "      <td>602</td>\n",
       "      <td>31.933447</td>\n",
       "      <td>16</td>\n",
       "      <td>2.66</td>\n",
       "    </tr>\n",
       "    <tr>\n",
       "      <th>7</th>\n",
       "      <td>LGA</td>\n",
       "      <td>FNT</td>\n",
       "      <td>283</td>\n",
       "      <td>31.879668</td>\n",
       "      <td>42</td>\n",
       "      <td>14.84</td>\n",
       "    </tr>\n",
       "    <tr>\n",
       "      <th>8</th>\n",
       "      <td>EGE</td>\n",
       "      <td>MIA</td>\n",
       "      <td>381</td>\n",
       "      <td>31.762667</td>\n",
       "      <td>6</td>\n",
       "      <td>1.57</td>\n",
       "    </tr>\n",
       "    <tr>\n",
       "      <th>9</th>\n",
       "      <td>DAB</td>\n",
       "      <td>LGA</td>\n",
       "      <td>175</td>\n",
       "      <td>31.743902</td>\n",
       "      <td>11</td>\n",
       "      <td>6.29</td>\n",
       "    </tr>\n",
       "  </tbody>\n",
       "</table>\n",
       "</div>"
      ],
      "text/plain": [
       "  origin dest  total_flights  avg_depdelay  cancellations  cancel_rate\n",
       "0    MKE  MQT            128     62.169492             10         7.81\n",
       "1    ACK  JFK            147     55.090909             15        10.20\n",
       "2    ASE  ORD            584     48.986408             69        11.82\n",
       "3    SFO  EGE            439     40.937500              7         1.59\n",
       "4    ASE  SFO            162     39.661972             20        12.35\n",
       "5    MQT  MKE            127     38.474576              9         7.09\n",
       "6    DFW  MDT            602     31.933447             16         2.66\n",
       "7    LGA  FNT            283     31.879668             42        14.84\n",
       "8    EGE  MIA            381     31.762667              6         1.57\n",
       "9    DAB  LGA            175     31.743902             11         6.29"
      ]
     },
     "execution_count": 22,
     "metadata": {},
     "output_type": "execute_result"
    }
   ],
   "source": [
    "# by route\n",
    "query11 = \"\"\"\n",
    "    SELECT\n",
    "        origin,\n",
    "        dest,\n",
    "        COUNT(*) AS total_flights,\n",
    "        AVG(depdelay) AS avg_depdelay,\n",
    "        SUM(CASE WHEN cancelled = 1 THEN 1 ELSE 0 END) AS cancellations,\n",
    "        ROUND(100.0 * SUM(CASE WHEN cancelled = 1 THEN 1 ELSE 0 END) / COUNT(*), 2) AS cancel_rate\n",
    "    FROM project2.airline_all\n",
    "    WHERE depdelay IS NOT NULL OR cancelled = 1\n",
    "    GROUP BY origin, dest\n",
    "    HAVING COUNT(*) >= 100  -- Filter out rare routes\n",
    "    ORDER BY avg_depdelay DESC, cancel_rate DESC\n",
    "    LIMIT 10\n",
    "\"\"\"\n",
    "\n",
    "df11 = pd.read_sql(query11, conn)\n",
    "df11"
   ]
  },
  {
   "cell_type": "code",
   "execution_count": 23,
   "id": "173986d7",
   "metadata": {},
   "outputs": [
    {
     "name": "stderr",
     "output_type": "stream",
     "text": [
      "C:\\Users\\user\\AppData\\Local\\Temp\\ipykernel_21476\\3497109198.py:16: UserWarning: pandas only supports SQLAlchemy connectable (engine/connection) or database string URI or sqlite3 DBAPI2 connection. Other DBAPI2 objects are not tested. Please consider using SQLAlchemy.\n",
      "  df12 = pd.read_sql(query12, conn)\n"
     ]
    },
    {
     "data": {
      "application/vnd.microsoft.datawrangler.viewer.v0+json": {
       "columns": [
        {
         "name": "index",
         "rawType": "int64",
         "type": "integer"
        },
        {
         "name": "flightnum",
         "rawType": "int64",
         "type": "integer"
        },
        {
         "name": "total_flights",
         "rawType": "int64",
         "type": "integer"
        },
        {
         "name": "avg_depdelay",
         "rawType": "float64",
         "type": "float"
        },
        {
         "name": "cancel_rate",
         "rawType": "float64",
         "type": "float"
        }
       ],
       "ref": "ac9c2449-c962-42f6-9e0c-c0e0cded0838",
       "rows": [
        [
         "0",
         "6001",
         "163",
         "44.319148936170215",
         "13.5"
        ],
        [
         "1",
         "7188",
         "1006",
         "40.20421052631579",
         "5.57"
        ],
        [
         "2",
         "7474",
         "911",
         "33.94232987312572",
         "4.83"
        ],
        [
         "3",
         "7426",
         "681",
         "33.921996879875195",
         "5.87"
        ],
        [
         "4",
         "6007",
         "109",
         "33.6822429906542",
         "1.83"
        ],
        [
         "5",
         "7256",
         "1406",
         "33.57373271889401",
         "7.4"
        ],
        [
         "6",
         "7458",
         "1023",
         "33.527494908350306",
         "4.01"
        ],
        [
         "7",
         "7368",
         "933",
         "33.50885478158205",
         "9.22"
        ],
        [
         "8",
         "7617",
         "545",
         "33.0916179337232",
         "5.87"
        ],
        [
         "9",
         "7238",
         "1134",
         "33.02247191011236",
         "5.82"
        ]
       ],
       "shape": {
        "columns": 4,
        "rows": 10
       }
      },
      "text/html": [
       "<div>\n",
       "<style scoped>\n",
       "    .dataframe tbody tr th:only-of-type {\n",
       "        vertical-align: middle;\n",
       "    }\n",
       "\n",
       "    .dataframe tbody tr th {\n",
       "        vertical-align: top;\n",
       "    }\n",
       "\n",
       "    .dataframe thead th {\n",
       "        text-align: right;\n",
       "    }\n",
       "</style>\n",
       "<table border=\"1\" class=\"dataframe\">\n",
       "  <thead>\n",
       "    <tr style=\"text-align: right;\">\n",
       "      <th></th>\n",
       "      <th>flightnum</th>\n",
       "      <th>total_flights</th>\n",
       "      <th>avg_depdelay</th>\n",
       "      <th>cancel_rate</th>\n",
       "    </tr>\n",
       "  </thead>\n",
       "  <tbody>\n",
       "    <tr>\n",
       "      <th>0</th>\n",
       "      <td>6001</td>\n",
       "      <td>163</td>\n",
       "      <td>44.319149</td>\n",
       "      <td>13.50</td>\n",
       "    </tr>\n",
       "    <tr>\n",
       "      <th>1</th>\n",
       "      <td>7188</td>\n",
       "      <td>1006</td>\n",
       "      <td>40.204211</td>\n",
       "      <td>5.57</td>\n",
       "    </tr>\n",
       "    <tr>\n",
       "      <th>2</th>\n",
       "      <td>7474</td>\n",
       "      <td>911</td>\n",
       "      <td>33.942330</td>\n",
       "      <td>4.83</td>\n",
       "    </tr>\n",
       "    <tr>\n",
       "      <th>3</th>\n",
       "      <td>7426</td>\n",
       "      <td>681</td>\n",
       "      <td>33.921997</td>\n",
       "      <td>5.87</td>\n",
       "    </tr>\n",
       "    <tr>\n",
       "      <th>4</th>\n",
       "      <td>6007</td>\n",
       "      <td>109</td>\n",
       "      <td>33.682243</td>\n",
       "      <td>1.83</td>\n",
       "    </tr>\n",
       "    <tr>\n",
       "      <th>5</th>\n",
       "      <td>7256</td>\n",
       "      <td>1406</td>\n",
       "      <td>33.573733</td>\n",
       "      <td>7.40</td>\n",
       "    </tr>\n",
       "    <tr>\n",
       "      <th>6</th>\n",
       "      <td>7458</td>\n",
       "      <td>1023</td>\n",
       "      <td>33.527495</td>\n",
       "      <td>4.01</td>\n",
       "    </tr>\n",
       "    <tr>\n",
       "      <th>7</th>\n",
       "      <td>7368</td>\n",
       "      <td>933</td>\n",
       "      <td>33.508855</td>\n",
       "      <td>9.22</td>\n",
       "    </tr>\n",
       "    <tr>\n",
       "      <th>8</th>\n",
       "      <td>7617</td>\n",
       "      <td>545</td>\n",
       "      <td>33.091618</td>\n",
       "      <td>5.87</td>\n",
       "    </tr>\n",
       "    <tr>\n",
       "      <th>9</th>\n",
       "      <td>7238</td>\n",
       "      <td>1134</td>\n",
       "      <td>33.022472</td>\n",
       "      <td>5.82</td>\n",
       "    </tr>\n",
       "  </tbody>\n",
       "</table>\n",
       "</div>"
      ],
      "text/plain": [
       "   flightnum  total_flights  avg_depdelay  cancel_rate\n",
       "0       6001            163     44.319149        13.50\n",
       "1       7188           1006     40.204211         5.57\n",
       "2       7474            911     33.942330         4.83\n",
       "3       7426            681     33.921997         5.87\n",
       "4       6007            109     33.682243         1.83\n",
       "5       7256           1406     33.573733         7.40\n",
       "6       7458           1023     33.527495         4.01\n",
       "7       7368            933     33.508855         9.22\n",
       "8       7617            545     33.091618         5.87\n",
       "9       7238           1134     33.022472         5.82"
      ]
     },
     "execution_count": 23,
     "metadata": {},
     "output_type": "execute_result"
    }
   ],
   "source": [
    "# by flight number\n",
    "query12 = \"\"\"\n",
    "        SELECT\n",
    "        flightnum,\n",
    "        COUNT(*) AS total_flights,\n",
    "        AVG(depdelay) AS avg_depdelay,\n",
    "        ROUND(100.0 * SUM(CASE WHEN cancelled = 1 THEN 1 ELSE 0 END) / COUNT(*), 2) AS cancel_rate\n",
    "    FROM project2.airline_all\n",
    "    WHERE depdelay IS NOT NULL OR cancelled = 1\n",
    "    GROUP BY flightnum\n",
    "    HAVING COUNT(*) >= 100  -- Filter out uncommon flights\n",
    "    ORDER BY avg_depdelay DESC, cancel_rate DESC\n",
    "    LIMIT 10\n",
    "\"\"\"\n",
    "\n",
    "df12 = pd.read_sql(query12, conn)\n",
    "df12"
   ]
  },
  {
   "cell_type": "markdown",
   "id": "6dfc9f2b",
   "metadata": {},
   "source": [
    "<h2> Analyse the reasons these particular flights are prone to delays or cancellations. </h2>"
   ]
  },
  {
   "cell_type": "code",
   "execution_count": 24,
   "id": "ee6036a8",
   "metadata": {},
   "outputs": [],
   "source": [
    "query13 = \"\"\"\n",
    "    CREATE TEMPORARY TABLE project2.bad_flights AS\n",
    "        SELECT\n",
    "        origin,\n",
    "        dest,\n",
    "        flightnum,\n",
    "        AVG(depdelay) AS avg_depdelay,\n",
    "        COUNT(*) AS total_flights\n",
    "    FROM project2.airline_all\n",
    "    WHERE depdelay IS NOT NULL\n",
    "    GROUP BY origin, dest, flightnum\n",
    "    HAVING COUNT(*) >= 100 AND avg_depdelay > 30\n",
    "\"\"\"\n",
    "\n",
    "query14 = \"\"\"\n",
    "    SELECT\n",
    "        a.origin,\n",
    "        a.dest,\n",
    "        a.flightnum,\n",
    "        SUM(carrierdelay) AS total_carrier_delay,\n",
    "        SUM(weatherdelay) AS total_weather_delay,\n",
    "        SUM(nasdelay) AS total_nas_delay,\n",
    "        SUM(securitydelay) AS total_security_delay,\n",
    "        SUM(lateaircraftdelay) AS total_lateaircraft_delay\n",
    "    FROM project2.airline_all a\n",
    "    JOIN project2.bad_flights b\n",
    "        ON a.origin = b.origin AND a.dest = b.dest AND a.flightnum = b.flightnum\n",
    "    GROUP BY a.origin, a.dest, a.flightnum\n",
    "    ORDER BY total_carrier_delay + total_weather_delay + total_nas_delay + total_security_delay + total_lateaircraft_delay DESC;\n",
    "\"\"\"\n",
    "\n",
    "query15 = \"\"\"\n",
    "    SELECT\n",
    "    a.origin,\n",
    "    a.dest,\n",
    "    a.flightnum,\n",
    "    CASE cancellationcode\n",
    "        WHEN 'A' THEN 'Carrier'\n",
    "        WHEN 'B' THEN 'Weather'\n",
    "        WHEN 'C' THEN 'NAS'\n",
    "        WHEN 'D' THEN 'Security'\n",
    "        ELSE 'Unknown'\n",
    "    END AS cancellation_reason,\n",
    "    COUNT(*) AS cancellations\n",
    "    FROM project2.airline_all a\n",
    "    JOIN project2.bad_flights b\n",
    "        ON a.origin = b.origin AND a.dest = b.dest AND a.flightnum = b.flightnum\n",
    "    WHERE a.cancelled = 1\n",
    "    GROUP BY a.origin, a.dest, a.flightnum, cancellationcode\n",
    "    ORDER BY cancellations DESC\n",
    "\"\"\"\n"
   ]
  },
  {
   "cell_type": "markdown",
   "id": "91ea7430",
   "metadata": {},
   "source": []
  },
  {
   "cell_type": "markdown",
   "id": "8fc26285",
   "metadata": {},
   "source": [
    "<h1> References </h1>\n",
    "1. https://cs229.stanford.edu/proj2013/MathurNagaoNg-PredictingFlightOnTimePerformance.pdf <br>\n",
    "2. https://dataverse.harvard.edu/dataset.xhtml?persistentId=doi%3A10.7910%2FDVN%2FHG7NV7 <br>\n",
    "3. https://learn.microsoft.com/en-us/previous-versions/microsoft-r/r-reference/revoscaler/airontime87to12\n",
    "4. "
   ]
  },
  {
   "cell_type": "markdown",
   "id": "08ab6412",
   "metadata": {},
   "source": []
  },
  {
   "cell_type": "code",
   "execution_count": null,
   "id": "082ae770",
   "metadata": {},
   "outputs": [
    {
     "name": "stdout",
     "output_type": "stream",
     "text": [
      "Processing project2.airline_1987\n",
      "Processing project2.airline_1988\n",
      "Processing project2.airline_1989\n",
      "Processing project2.airline_1990\n",
      "Processing project2.airline_1991\n",
      "Processing project2.airline_1992\n",
      "Processing project2.airline_1993\n",
      "Processing project2.airline_1994\n",
      "Processing project2.airline_1995\n",
      "Processing project2.airline_1996\n",
      "Processing project2.airline_1997\n",
      "Processing project2.airline_1998\n",
      "Processing project2.airline_1999\n",
      "Processing project2.airline_2000\n",
      "Processing project2.airline_2001\n",
      "Processing project2.airline_2002\n",
      "Processing project2.airline_2003\n",
      "Processing project2.airline_2004\n",
      "Processing project2.airline_2005\n",
      "Processing project2.airline_2006\n",
      "Processing project2.airline_2007\n",
      "Processing project2.airline_2008\n",
      "✅ Done. Results saved to missing_values_by_year.csv\n"
     ]
    }
   ],
   "source": [
    "from pyhive import hive\n",
    "import pandas as pd\n",
    "\n",
    "conn = hive.Connection(host='localhost', port=10000, username='maria_dev', database='project2')\n",
    "cursor = conn.cursor()\n",
    "\n",
    "\n"
   ]
  }
 ],
 "metadata": {
  "kernelspec": {
   "display_name": "Python 3",
   "language": "python",
   "name": "python3"
  },
  "language_info": {
   "codemirror_mode": {
    "name": "ipython",
    "version": 3
   },
   "file_extension": ".py",
   "mimetype": "text/x-python",
   "name": "python",
   "nbconvert_exporter": "python",
   "pygments_lexer": "ipython3",
   "version": "3.11.4"
  }
 },
 "nbformat": 4,
 "nbformat_minor": 5
}
